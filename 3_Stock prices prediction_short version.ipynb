{
 "cells": [
  {
   "attachments": {},
   "cell_type": "markdown",
   "metadata": {},
   "source": [
    "## Stock market prediction based on patent novelty\n"
   ]
  },
  {
   "cell_type": "code",
   "execution_count": 1,
   "metadata": {},
   "outputs": [],
   "source": [
    "import pandas as pd"
   ]
  },
  {
   "cell_type": "code",
   "execution_count": 2,
   "metadata": {},
   "outputs": [
    {
     "name": "stdout",
     "output_type": "stream",
     "text": [
      "(427, 15)\n",
      "(369810, 3)\n"
     ]
    }
   ],
   "source": [
    "df = pd.read_csv(\"data/all_novelty.csv\")\n",
    "stock_prices = pd.read_csv(\"data/stockprices_2000_2020.csv\")\n",
    "print(df.shape)\n",
    "print(stock_prices.shape)"
   ]
  },
  {
   "cell_type": "code",
   "execution_count": 3,
   "metadata": {},
   "outputs": [
    {
     "data": {
      "text/plain": [
       "ticker\n",
       "CL     335\n",
       "CHD     70\n",
       "HSY     18\n",
       "CPB      4\n",
       "Name: count, dtype: int64"
      ]
     },
     "execution_count": 3,
     "metadata": {},
     "output_type": "execute_result"
    }
   ],
   "source": [
    "df.ticker.value_counts()"
   ]
  },
  {
   "cell_type": "code",
   "execution_count": 4,
   "metadata": {},
   "outputs": [
    {
     "data": {
      "text/plain": [
       "(21132, 3)"
      ]
     },
     "execution_count": 4,
     "metadata": {},
     "output_type": "execute_result"
    }
   ],
   "source": [
    "stock_prices = stock_prices[(stock_prices[\"Ticker\"]==\"CL\") | \n",
    "                            (stock_prices[\"Ticker\"]==\"CHD\") |\n",
    "                            (stock_prices[\"Ticker\"]==\"HSY\") |\n",
    "                            (stock_prices[\"Ticker\"]==\"CPB\")]\n",
    "stock_prices.shape"
   ]
  },
  {
   "cell_type": "code",
   "execution_count": 5,
   "metadata": {},
   "outputs": [],
   "source": [
    "# Keeping range of dates for which we have patent data\n",
    "\n",
    "stock_prices[\"date\"] = pd.to_datetime(stock_prices[\"Date\"])\n",
    "df[\"date\"] = pd.to_datetime(df[\"issue_date\"])\n",
    "stock_prices = stock_prices[(stock_prices[\"date\"]>=df.date.min()) &\n",
    "                            (stock_prices[\"date\"]<=df.date.max())]\n",
    "stock_prices = stock_prices.drop(columns=[\"Date\"])\n",
    "\n",
    "stock_prices = stock_prices.rename(columns={'Ticker': 'ticker'})"
   ]
  },
  {
   "cell_type": "code",
   "execution_count": 6,
   "metadata": {},
   "outputs": [
    {
     "data": {
      "text/plain": [
       "(256, 12)"
      ]
     },
     "execution_count": 6,
     "metadata": {},
     "output_type": "execute_result"
    }
   ],
   "source": [
    "# Many patents are published on the same date - we average the novelty measures\n",
    "\n",
    "df_reduc = df.drop(columns=[\"text\", \"patent_id\", \"clean_corpus\", \"issue_date\"])\n",
    "df2_avg = df_reduc.groupby(['ticker', 'date', 'sector']).mean().reset_index()\n",
    "df2_avg.shape"
   ]
  },
  {
   "cell_type": "code",
   "execution_count": 7,
   "metadata": {},
   "outputs": [
    {
     "data": {
      "text/plain": [
       "(8928, 13)"
      ]
     },
     "execution_count": 7,
     "metadata": {},
     "output_type": "execute_result"
    }
   ],
   "source": [
    "# Merging the two datasets\n",
    "merged = pd.merge(stock_prices, df2_avg, on=[\"date\", \"ticker\"], how=\"left\")\n",
    "merged.shape"
   ]
  },
  {
   "attachments": {},
   "cell_type": "markdown",
   "metadata": {},
   "source": [
    "We end up with a dataset with a lot of NA values, since we have data for 8928 days/tickers, but new patents were only released in 256 cases."
   ]
  },
  {
   "cell_type": "code",
   "execution_count": 8,
   "metadata": {},
   "outputs": [],
   "source": [
    "merged.to_csv(\"data/stockprices_novelty_merged.csv\")"
   ]
  },
  {
   "attachments": {},
   "cell_type": "markdown",
   "metadata": {},
   "source": [
    "## Preprocessing and modelling"
   ]
  },
  {
   "cell_type": "code",
   "execution_count": 24,
   "metadata": {},
   "outputs": [],
   "source": [
    "import pandas as pd\n",
    "from sklearn.model_selection import train_test_split\n",
    "from sklearn.preprocessing import StandardScaler\n",
    "import numpy as np\n",
    "from sklearn.metrics import mean_squared_error"
   ]
  },
  {
   "cell_type": "code",
   "execution_count": 32,
   "metadata": {},
   "outputs": [],
   "source": [
    "df = pd.read_csv(\"data/stockprices_novelty_merged.csv\").drop(columns=[\"Unnamed: 0\"])\n",
    "\n",
    "# Sector does not give us extra information\n",
    "\n",
    "df = df.drop(columns=[\"sector\"])\n",
    "\n",
    "# Calculate the maximum value within each group\n",
    "numpatents = df.groupby('ticker')['numpat_total'].transform('max')\n",
    "\n",
    "# Assign the maximum values to a new column 'max_value'\n",
    "df['numpat_total'] = numpatents\n",
    "\n",
    "test_time_start = '2017'\n",
    "\n",
    "df = df.fillna(0) # Filling NAs with 0 (signaling \"no innovation\")\n",
    "\n",
    "df[\"date\"] = pd.to_datetime(df[\"date\"])\n",
    "\n",
    "df.sort_values(['ticker', 'date'], inplace=True)\n"
   ]
  },
  {
   "attachments": {},
   "cell_type": "markdown",
   "metadata": {},
   "source": [
    "### Benchmark\n",
    "\n",
    "+ Naive model"
   ]
  },
  {
   "cell_type": "code",
   "execution_count": 48,
   "metadata": {},
   "outputs": [
    {
     "name": "stdout",
     "output_type": "stream",
     "text": [
      "Mean Squared Error: 0.00033931651339462644\n"
     ]
    }
   ],
   "source": [
    "test_time_start = '2017-01-01'\n",
    "train = df.loc[df.date < test_time_start]\n",
    "test = df.loc[df.date >= test_time_start]\n",
    "\n",
    "companies = df['ticker'].unique()\n",
    "\n",
    "def apply_naive_prediction(train, test, target, companies):\n",
    "    y_pred = []  # Initialize y_pred as an empty list\n",
    "    for c in companies:\n",
    "        train_c = train[train[\"ticker\"]==c]\n",
    "        test_c = test[test[\"ticker\"]==c]\n",
    "\n",
    "        y_pred_1 = train_c[target].iloc[-1]\n",
    "        y_pred_2 = test_c[target].shift(1)  # Shift the values by 1 timestep\n",
    "        y_pred_c = y_pred_2.fillna(y_pred_1)\n",
    "        y_pred.append(y_pred_c)  # Append the predicted values to y_pred list\n",
    "\n",
    "    return pd.concat(y_pred)  # Concatenate the predicted values into a single series or dataframe\n",
    "\n",
    "\n",
    "y_pred = apply_naive_prediction(train, test, \"Adj Close\", companies)\n",
    "\n",
    "mse = mean_squared_error(test[\"Adj Close\"], y_pred)\n",
    "print(\"Mean Squared Error:\", mse)\n"
   ]
  },
  {
   "attachments": {},
   "cell_type": "markdown",
   "metadata": {},
   "source": [
    "### Model 1\n",
    "+ Effect of new patent on the following day. \n",
    "+ Missing values imputed as 0 (signaling \"no innovation\"). \n",
    "+ Fixed effects by company (ticker dummies).\n",
    "+ Include past information for stock market variation (lags)\n",
    "+ Model: RF + hyperparameter tunning"
   ]
  },
  {
   "cell_type": "code",
   "execution_count": 49,
   "metadata": {},
   "outputs": [],
   "source": [
    "# Shifting target by 1 day\n",
    "\n",
    "# Function for defining Y variable\n",
    "\n",
    "def make_target(df, t):\n",
    "    '''t is the number of periods to shift forward'''\n",
    "    df[\"date\"] = pd.to_datetime(df[\"date\"])\n",
    "    df = df.sort_values(by=['ticker', 'date'])\n",
    "\n",
    "    # loop through each period and generate the shift variables\n",
    "    for i in range(1, t+1):\n",
    "        col_name = f'Adj Close{i}'\n",
    "        df[col_name] = df.groupby(['ticker'])['Adj Close'].shift(-i)\n",
    "\n",
    "    # take the maximum for t periods forward and create the new variable\n",
    "    df['target_f{}'.format(t)] = df[[f'Adj Close{i}' for i in range(1, t+1)]].max(axis=1, skipna=False)\n",
    "\n",
    "    # drop the shift variables\n",
    "    df = df.drop(columns=[f'Adj Close{i}' for i in range(1, t+1)])\n",
    "\n",
    "    return(df)"
   ]
  },
  {
   "cell_type": "code",
   "execution_count": 53,
   "metadata": {},
   "outputs": [
    {
     "data": {
      "text/html": [
       "<div>\n",
       "<style scoped>\n",
       "    .dataframe tbody tr th:only-of-type {\n",
       "        vertical-align: middle;\n",
       "    }\n",
       "\n",
       "    .dataframe tbody tr th {\n",
       "        vertical-align: top;\n",
       "    }\n",
       "\n",
       "    .dataframe thead th {\n",
       "        text-align: right;\n",
       "    }\n",
       "</style>\n",
       "<table border=\"1\" class=\"dataframe\">\n",
       "  <thead>\n",
       "    <tr style=\"text-align: right;\">\n",
       "      <th></th>\n",
       "      <th>ticker</th>\n",
       "      <th>Adj Close</th>\n",
       "      <th>date</th>\n",
       "      <th>numpat_total</th>\n",
       "      <th>avg_similarity_5</th>\n",
       "      <th>avg_similarity_10</th>\n",
       "      <th>avg_similarity_20</th>\n",
       "      <th>nw</th>\n",
       "      <th>nb</th>\n",
       "      <th>nt</th>\n",
       "      <th>nwc</th>\n",
       "      <th>nov</th>\n",
       "      <th>target_f1</th>\n",
       "    </tr>\n",
       "  </thead>\n",
       "  <tbody>\n",
       "    <tr>\n",
       "      <th>8923</th>\n",
       "      <td>HSY</td>\n",
       "      <td>0.003343</td>\n",
       "      <td>2018-11-07</td>\n",
       "      <td>27.0</td>\n",
       "      <td>0.000000</td>\n",
       "      <td>0.000000</td>\n",
       "      <td>0.000000</td>\n",
       "      <td>0.0</td>\n",
       "      <td>0.0</td>\n",
       "      <td>0.0</td>\n",
       "      <td>0.0</td>\n",
       "      <td>0.0</td>\n",
       "      <td>-0.009070</td>\n",
       "    </tr>\n",
       "    <tr>\n",
       "      <th>8924</th>\n",
       "      <td>HSY</td>\n",
       "      <td>-0.009070</td>\n",
       "      <td>2018-11-08</td>\n",
       "      <td>27.0</td>\n",
       "      <td>0.000000</td>\n",
       "      <td>0.000000</td>\n",
       "      <td>0.000000</td>\n",
       "      <td>0.0</td>\n",
       "      <td>0.0</td>\n",
       "      <td>0.0</td>\n",
       "      <td>0.0</td>\n",
       "      <td>0.0</td>\n",
       "      <td>0.014103</td>\n",
       "    </tr>\n",
       "    <tr>\n",
       "      <th>8925</th>\n",
       "      <td>HSY</td>\n",
       "      <td>0.014103</td>\n",
       "      <td>2018-11-09</td>\n",
       "      <td>27.0</td>\n",
       "      <td>0.000000</td>\n",
       "      <td>0.000000</td>\n",
       "      <td>0.000000</td>\n",
       "      <td>0.0</td>\n",
       "      <td>0.0</td>\n",
       "      <td>0.0</td>\n",
       "      <td>0.0</td>\n",
       "      <td>0.0</td>\n",
       "      <td>0.000829</td>\n",
       "    </tr>\n",
       "    <tr>\n",
       "      <th>8926</th>\n",
       "      <td>HSY</td>\n",
       "      <td>0.000829</td>\n",
       "      <td>2018-11-12</td>\n",
       "      <td>27.0</td>\n",
       "      <td>0.000000</td>\n",
       "      <td>0.000000</td>\n",
       "      <td>0.000000</td>\n",
       "      <td>0.0</td>\n",
       "      <td>0.0</td>\n",
       "      <td>0.0</td>\n",
       "      <td>0.0</td>\n",
       "      <td>0.0</td>\n",
       "      <td>0.004325</td>\n",
       "    </tr>\n",
       "    <tr>\n",
       "      <th>8927</th>\n",
       "      <td>HSY</td>\n",
       "      <td>0.004325</td>\n",
       "      <td>2018-11-13</td>\n",
       "      <td>27.0</td>\n",
       "      <td>0.235248</td>\n",
       "      <td>0.138532</td>\n",
       "      <td>0.097133</td>\n",
       "      <td>0.0</td>\n",
       "      <td>0.0</td>\n",
       "      <td>0.0</td>\n",
       "      <td>0.0</td>\n",
       "      <td>0.0</td>\n",
       "      <td>NaN</td>\n",
       "    </tr>\n",
       "  </tbody>\n",
       "</table>\n",
       "</div>"
      ],
      "text/plain": [
       "     ticker  Adj Close       date  numpat_total  avg_similarity_5   \n",
       "8923    HSY   0.003343 2018-11-07          27.0          0.000000  \\\n",
       "8924    HSY  -0.009070 2018-11-08          27.0          0.000000   \n",
       "8925    HSY   0.014103 2018-11-09          27.0          0.000000   \n",
       "8926    HSY   0.000829 2018-11-12          27.0          0.000000   \n",
       "8927    HSY   0.004325 2018-11-13          27.0          0.235248   \n",
       "\n",
       "      avg_similarity_10  avg_similarity_20   nw   nb   nt  nwc  nov  target_f1  \n",
       "8923           0.000000           0.000000  0.0  0.0  0.0  0.0  0.0  -0.009070  \n",
       "8924           0.000000           0.000000  0.0  0.0  0.0  0.0  0.0   0.014103  \n",
       "8925           0.000000           0.000000  0.0  0.0  0.0  0.0  0.0   0.000829  \n",
       "8926           0.000000           0.000000  0.0  0.0  0.0  0.0  0.0   0.004325  \n",
       "8927           0.138532           0.097133  0.0  0.0  0.0  0.0  0.0        NaN  "
      ]
     },
     "execution_count": 53,
     "metadata": {},
     "output_type": "execute_result"
    }
   ],
   "source": [
    "df_target = make_target(df, 1)\n",
    "df_target.tail()"
   ]
  },
  {
   "cell_type": "code",
   "execution_count": 54,
   "metadata": {},
   "outputs": [],
   "source": [
    "# Here we generate variables for the past 3 to 120 days with a rolling mean of Adj Close\n",
    "df_target[\"date\"] = pd.to_datetime(df_target[\"date\"])\n",
    "panel_data= df_target.copy()\n",
    "panel_data = panel_data.sort_values(by=['ticker', 'date'])\n",
    "lcols = (panel_data.groupby(['ticker'])['Adj Close'] \n",
    "         .transform(lambda x: x.rolling(w, min_periods=1).sum()) # rolling sum of number of reports\n",
    "         .rename('past' + str(w-1)) \n",
    "         for w in [4, 7, 16, 31, 61, 121])\n",
    "panel_data = panel_data.join(pd.DataFrame(lcols).transpose())"
   ]
  },
  {
   "cell_type": "code",
   "execution_count": 57,
   "metadata": {},
   "outputs": [],
   "source": [
    "# OHE for ticker\n",
    "\n",
    "dummies = pd.get_dummies(panel_data['ticker'], dtype=int)\n",
    "merged = pd.concat([panel_data, dummies], axis=1)\n",
    "\n",
    "merged = merged.drop(columns=[\"ticker\", \"Adj Close\"])\n"
   ]
  },
  {
   "cell_type": "code",
   "execution_count": 68,
   "metadata": {},
   "outputs": [],
   "source": [
    "# Split the data into training and test \n",
    "train = merged.loc[merged.date < test_time_start]\n",
    "test = merged.loc[merged.date >= test_time_start]\n",
    "test = test.dropna()\n",
    "\n",
    "X_train = train.drop('target_f1', axis=1).drop(columns=[\"date\"])  # Features\n",
    "y_train = train['target_f1']  # Target variable\n",
    "X_test = test.drop('target_f1', axis=1).drop(columns=[\"date\"])  # Features\n",
    "y_test = test['target_f1']  # Target variable\n",
    "\n",
    "# Create a StandardScaler object\n",
    "scaler = StandardScaler()\n",
    "\n",
    "# Fit the scaler on the training features\n",
    "scaler.fit(X_train)\n",
    "\n",
    "# Apply the scaler to both the training and test features\n",
    "X_train_scaled = scaler.transform(X_train)\n",
    "X_test_scaled = scaler.transform(X_test)"
   ]
  },
  {
   "cell_type": "code",
   "execution_count": 70,
   "metadata": {},
   "outputs": [
    {
     "name": "stdout",
     "output_type": "stream",
     "text": [
      "Mean Squared Error: 0.00017210385348447716\n"
     ]
    }
   ],
   "source": [
    "from sklearn.model_selection import GridSearchCV\n",
    "from sklearn.ensemble import RandomForestRegressor\n",
    "\n",
    "param_grid = {\n",
    "    'n_estimators': [50, 100, 150, 200, 300],\n",
    "    'max_depth': [None, 5, 7, 10, 20],\n",
    "    'min_samples_split': [2, 5, 10, 15, 20]\n",
    "}\n",
    "\n",
    "rf_model = RandomForestRegressor(random_state=42)\n",
    "\n",
    "grid_search = GridSearchCV(estimator=rf_model, param_grid=param_grid, cv=5, scoring='neg_mean_squared_error', n_jobs=-1)\n",
    "grid_search.fit(X_train_scaled, y_train)\n",
    "\n",
    "best_model = grid_search.best_estimator_\n",
    "\n",
    "y_pred = best_model.predict(X_test_scaled)\n",
    "mse = mean_squared_error(y_test, y_pred)\n",
    "print(\"Mean Squared Error:\", mse)"
   ]
  },
  {
   "cell_type": "code",
   "execution_count": 71,
   "metadata": {},
   "outputs": [],
   "source": [
    "import seaborn as sns\n",
    "import matplotlib.pyplot as plt\n",
    "\n",
    "def feature_imp(coef, names):\n",
    "    imp = coef\n",
    "    indexes = np.argsort(imp)[-11:]\n",
    "    indexes = list(indexes)\n",
    "    \n",
    "    plt.barh(range(len(indexes)), imp[indexes], align='center')\n",
    "    plt.yticks(range(len(indexes)), [names[i] for i in indexes])\n",
    "    plt.show()\n",
    "    \n",
    "    return indexes"
   ]
  },
  {
   "cell_type": "code",
   "execution_count": 72,
   "metadata": {},
   "outputs": [
    {
     "data": {
      "image/png": "[encoded data removed]",
      "text/plain": [
       "<Figure size 640x480 with 1 Axes>"
      ]
     },
     "metadata": {},
     "output_type": "display_data"
    },
    {
     "data": {
      "text/plain": [
       "[8, 7, 1, 6, 0, 12, 14, 13, 11, 10, 9]"
      ]
     },
     "execution_count": 72,
     "metadata": {},
     "output_type": "execute_result"
    }
   ],
   "source": [
    "feature_names = X_train.columns\n",
    "\n",
    "feature_imp(abs(best_model.feature_importances_), feature_names)"
   ]
  },
  {
   "attachments": {},
   "cell_type": "markdown",
   "metadata": {},
   "source": [
    "### Model 2\n",
    "\n",
    "+ Effect of new patent on the following day. \n",
    "+ Missing values imputed as 0 (signaling \"no innovation\"). \n",
    "+ Instead of fixed effects by company (ticker dummies), one model per company.\n",
    "+ Include past information for stock market variation (lags)\n",
    "+ Model: RF + hyperparameter tunning\n",
    "\n"
   ]
  },
  {
   "cell_type": "code",
   "execution_count": 77,
   "metadata": {},
   "outputs": [],
   "source": [
    "df_copy = panel_data.copy()\n",
    "\n",
    "\n",
    "# Drop unnecesary columns\n",
    "df_copy = df_copy.drop(columns=[\"Adj Close\"])"
   ]
  },
  {
   "cell_type": "code",
   "execution_count": 79,
   "metadata": {},
   "outputs": [],
   "source": [
    "df_copy = panel_data.copy()\n",
    "\n",
    "\n",
    "# Drop unnecesary columns\n",
    "df_copy = df_copy.drop(columns=[\"Adj Close\"])\n",
    "\n",
    "# Get the unique company names from the DataFrame\n",
    "companies = df_copy['ticker'].unique()\n",
    "\n",
    "# Create an empty dictionary to store the trained models and MSE values\n",
    "results = {}\n",
    "\n",
    "# Define the parameter grid for grid search\n",
    "param_grid = {\n",
    "    'n_estimators': [50, 100, 150, 200, 300],\n",
    "    'max_depth': [None, 5, 7, 10, 20],\n",
    "    'min_samples_split': [2, 5, 10, 15, 20]\n",
    "}\n",
    "\n",
    "# Iterate over the companies\n",
    "for company in companies:\n",
    "    # Subset the data for the current company\n",
    "    company_data = df_copy[df_copy['ticker'] == company]\n",
    "    company_data = company_data.dropna()\n",
    "    company_data = company_data.drop(columns=[\"ticker\"])\n",
    "   # Split the data into training and test \n",
    "    train = company_data.loc[company_data.date < test_time_start]\n",
    "    test = company_data.loc[company_data.date >= test_time_start]\n",
    "\n",
    "    X_train = train.drop('target_f1', axis=1).drop(columns=[\"date\"])  # Features\n",
    "    y_train = train['target_f1']  # Target variable\n",
    "    X_test = test.drop('target_f1', axis=1).drop(columns=[\"date\"])  # Features\n",
    "    y_test = test['target_f1']  # Target variable\n",
    "\n",
    "    # Create a StandardScaler object\n",
    "    scaler = StandardScaler()\n",
    "\n",
    "    # Fit the scaler on the training features\n",
    "    scaler.fit(X_train)\n",
    "\n",
    "    # Apply the scaler to both the training and test features\n",
    "    X_train_scaled = scaler.transform(X_train)\n",
    "    X_test_scaled = scaler.transform(X_test)\n",
    "\n",
    "  \n",
    "    # Perform grid search for hyperparameter tuning\n",
    "    rf_model = RandomForestRegressor(random_state=42)\n",
    "    grid_search = GridSearchCV(estimator=rf_model, param_grid=param_grid, cv=5, scoring='neg_mean_squared_error', n_jobs=-1)\n",
    "    grid_search.fit(X_train_scaled, y_train)\n",
    "    \n",
    "    # Get the best model from grid search\n",
    "    best_model = grid_search.best_estimator_\n",
    "    \n",
    "    # Make predictions using the selected model\n",
    "    y_pred = best_model.predict(X_test_scaled)\n",
    "    \n",
    "    # Calculate the mean squared error for the predictions\n",
    "    mse = mean_squared_error(y_test, y_pred)\n",
    "    \n",
    "    # Store the best model and MSE in the dictionary\n",
    "    results[company] = {\n",
    "        'model': best_model,\n",
    "        'mse': mse\n",
    "    }\n",
    "\n"
   ]
  },
  {
   "cell_type": "code",
   "execution_count": 80,
   "metadata": {},
   "outputs": [
    {
     "data": {
      "text/plain": [
       "{'CHD': {'model': RandomForestRegressor(max_depth=5, min_samples_split=20, n_estimators=300,\n",
       "                        random_state=42),\n",
       "  'mse': 0.00015222288621109453},\n",
       " 'CL': {'model': RandomForestRegressor(max_depth=5, min_samples_split=5, n_estimators=200,\n",
       "                        random_state=42),\n",
       "  'mse': 0.00013764454825737616},\n",
       " 'CPB': {'model': RandomForestRegressor(max_depth=5, n_estimators=200, random_state=42),\n",
       "  'mse': 0.0002777173278876941},\n",
       " 'HSY': {'model': RandomForestRegressor(max_depth=5, min_samples_split=20, n_estimators=50,\n",
       "                        random_state=42),\n",
       "  'mse': 0.0001273804779564348}}"
      ]
     },
     "execution_count": 80,
     "metadata": {},
     "output_type": "execute_result"
    }
   ],
   "source": [
    "results"
   ]
  },
  {
   "attachments": {},
   "cell_type": "markdown",
   "metadata": {},
   "source": [
    "### Model 3\n",
    "+ ARIMA"
   ]
  },
  {
   "cell_type": "code",
   "execution_count": 73,
   "metadata": {},
   "outputs": [],
   "source": [
    "# !pip install statsmodels\n",
    "from statsmodels.tsa.arima.model import ARIMA"
   ]
  },
  {
   "cell_type": "code",
   "execution_count": 75,
   "metadata": {},
   "outputs": [],
   "source": [
    "df_timeseries = df.copy()\n",
    "\n",
    "df_timeseries[\"date\"] = pd.to_datetime(df_timeseries[\"date\"])\n",
    "\n",
    "# Set the 'date' column as the index\n",
    "df_timeseries.set_index('date', inplace=True)\n",
    "\n"
   ]
  },
  {
   "cell_type": "code",
   "execution_count": 76,
   "metadata": {},
   "outputs": [
    {
     "name": "stdout",
     "output_type": "stream",
     "text": [
      "--------------------------\n",
      "Company: CHD\n",
      "                               SARIMAX Results                                \n",
      "==============================================================================\n",
      "Dep. Variable:              Adj Close   No. Observations:                 1824\n",
      "Model:                 ARIMA(1, 1, 1)   Log Likelihood                5577.869\n",
      "Date:                Thu, 08 Jun 2023   AIC                         -11131.737\n",
      "Time:                        17:15:54   BIC                         -11065.638\n",
      "Sample:                    01-05-2010   HQIC                        -11107.353\n",
      "                         - 12-30-2016                                         \n",
      "Covariance Type:                  opg                                         \n",
      "=====================================================================================\n",
      "                        coef    std err          z      P>|z|      [0.025      0.975]\n",
      "-------------------------------------------------------------------------------------\n",
      "numpat_total               0         -0        nan        nan           0           0\n",
      "avg_similarity_5     -0.0020      0.001     -1.753      0.080      -0.004       0.000\n",
      "avg_similarity_10     0.0012      0.002      0.553      0.580      -0.003       0.006\n",
      "avg_similarity_20     0.0014      0.002      0.671      0.502      -0.003       0.005\n",
      "nw                -2.529e-05      0.000     -0.087      0.931      -0.001       0.001\n",
      "nb                    0.0012      0.000      2.516      0.012       0.000       0.002\n",
      "nt                   -0.0005      0.001     -0.977      0.329      -0.002       0.001\n",
      "nwc                   0.0006      0.000      2.363      0.018       0.000       0.001\n",
      "nov                  -0.0016      0.001     -2.647      0.008      -0.003      -0.000\n",
      "ar.L1                -0.2274      0.020    -11.150      0.000      -0.267      -0.187\n",
      "ma.L1                -0.7758      0.016    -48.679      0.000      -0.807      -0.745\n",
      "sigma2                0.0001   2.36e-06     52.942      0.000       0.000       0.000\n",
      "===================================================================================\n",
      "Ljung-Box (L1) (Q):                   4.44   Jarque-Bera (JB):              1471.18\n",
      "Prob(Q):                              0.04   Prob(JB):                         0.00\n",
      "Heteroskedasticity (H):               0.76   Skew:                             0.14\n",
      "Prob(H) (two-sided):                  0.00   Kurtosis:                         7.39\n",
      "===================================================================================\n",
      "\n",
      "Warnings:\n",
      "[1] Covariance matrix calculated using the outer product of gradients (complex-step).\n",
      "[2] Covariance matrix is singular or near-singular, with condition number    inf. Standard errors may be unstable.\n",
      "Mean Squared Error: 0.00015368947744333114\n",
      "--------------------------\n",
      "Company: CL\n",
      "                               SARIMAX Results                                \n",
      "==============================================================================\n",
      "Dep. Variable:              Adj Close   No. Observations:                 1824\n",
      "Model:                 ARIMA(1, 1, 1)   Log Likelihood                5728.036\n",
      "Date:                Thu, 08 Jun 2023   AIC                         -11432.072\n",
      "Time:                        17:15:57   BIC                         -11365.974\n",
      "Sample:                    01-05-2010   HQIC                        -11407.688\n",
      "                         - 12-30-2016                                         \n",
      "Covariance Type:                  opg                                         \n",
      "=====================================================================================\n",
      "                        coef    std err          z      P>|z|      [0.025      0.975]\n",
      "-------------------------------------------------------------------------------------\n",
      "numpat_total               0         -0        nan        nan           0           0\n",
      "avg_similarity_5     -0.0052      0.005     -1.083      0.279      -0.015       0.004\n",
      "avg_similarity_10     0.0200      0.010      2.033      0.042       0.001       0.039\n",
      "avg_similarity_20    -0.0151      0.007     -2.287      0.022      -0.028      -0.002\n",
      "nw                   -0.0012      0.001     -1.132      0.258      -0.003       0.001\n",
      "nb                    0.0011      0.001      1.011      0.312      -0.001       0.003\n",
      "nt                   -0.0004      0.001     -0.765      0.444      -0.001       0.001\n",
      "nwc                   0.0003      0.001      0.202      0.840      -0.002       0.003\n",
      "nov                6.627e-05      0.001      0.063      0.949      -0.002       0.002\n",
      "ar.L1                -0.1516      0.022     -6.794      0.000      -0.195      -0.108\n",
      "ma.L1                -0.7746      0.019    -40.218      0.000      -0.812      -0.737\n",
      "sigma2                0.0001   2.31e-06     47.212      0.000       0.000       0.000\n",
      "===================================================================================\n",
      "Ljung-Box (L1) (Q):                   0.04   Jarque-Bera (JB):              1266.14\n",
      "Prob(Q):                              0.85   Prob(JB):                         0.00\n",
      "Heteroskedasticity (H):               0.95   Skew:                            -0.01\n",
      "Prob(H) (two-sided):                  0.56   Kurtosis:                         7.08\n",
      "===================================================================================\n",
      "\n",
      "Warnings:\n",
      "[1] Covariance matrix calculated using the outer product of gradients (complex-step).\n",
      "[2] Covariance matrix is singular or near-singular, with condition number    inf. Standard errors may be unstable.\n",
      "Mean Squared Error: 0.000132239054204838\n",
      "--------------------------\n",
      "Company: CPB\n",
      "                               SARIMAX Results                                \n",
      "==============================================================================\n",
      "Dep. Variable:              Adj Close   No. Observations:                 1824\n",
      "Model:                 ARIMA(1, 1, 1)   Log Likelihood                5707.709\n",
      "Date:                Thu, 08 Jun 2023   AIC                         -11391.418\n",
      "Time:                        17:15:59   BIC                         -11325.319\n",
      "Sample:                    01-05-2010   HQIC                        -11367.034\n",
      "                         - 12-30-2016                                         \n",
      "Covariance Type:                  opg                                         \n",
      "=====================================================================================\n",
      "                        coef    std err          z      P>|z|      [0.025      0.975]\n",
      "-------------------------------------------------------------------------------------\n",
      "numpat_total               0         -0        nan        nan           0           0\n",
      "avg_similarity_5     -0.4039      0.001   -585.840      0.000      -0.405      -0.403\n",
      "avg_similarity_10    -0.4039      0.001   -585.840      0.000      -0.405      -0.403\n",
      "avg_similarity_20    -0.4039      0.001   -585.840      0.000      -0.405      -0.403\n",
      "nw                         0   1.19e-18          0      1.000   -2.34e-18    2.34e-18\n",
      "nb                         0        nan        nan        nan         nan         nan\n",
      "nt                   -1.3419      0.002   -607.311      0.000      -1.346      -1.338\n",
      "nwc                   0.6588      0.003    193.881      0.000       0.652       0.665\n",
      "nov                   1.2528      0.003    410.118      0.000       1.247       1.259\n",
      "ar.L1                 0.0028      0.022      0.128      0.898      -0.040       0.045\n",
      "ma.L1                -0.9942      0.004   -272.905      0.000      -1.001      -0.987\n",
      "sigma2                0.0001   2.06e-06     53.617      0.000       0.000       0.000\n",
      "===================================================================================\n",
      "Ljung-Box (L1) (Q):                   1.07   Jarque-Bera (JB):              1515.39\n",
      "Prob(Q):                              0.30   Prob(JB):                         0.00\n",
      "Heteroskedasticity (H):               1.40   Skew:                            -0.21\n",
      "Prob(H) (two-sided):                  0.00   Kurtosis:                         7.45\n",
      "===================================================================================\n",
      "\n",
      "Warnings:\n",
      "[1] Covariance matrix calculated using the outer product of gradients (complex-step).\n",
      "[2] Covariance matrix is singular or near-singular, with condition number    inf. Standard errors may be unstable.\n",
      "Mean Squared Error: 0.18745645096635652\n",
      "--------------------------\n",
      "Company: HSY\n",
      "                               SARIMAX Results                                \n",
      "==============================================================================\n",
      "Dep. Variable:              Adj Close   No. Observations:                 1824\n",
      "Model:                 ARIMA(1, 1, 1)   Log Likelihood                5419.985\n",
      "Date:                Thu, 08 Jun 2023   AIC                         -10815.970\n",
      "Time:                        17:16:01   BIC                         -10749.871\n",
      "Sample:                    01-05-2010   HQIC                        -10791.586\n",
      "                         - 12-30-2016                                         \n",
      "Covariance Type:                  opg                                         \n",
      "=====================================================================================\n",
      "                        coef    std err          z      P>|z|      [0.025      0.975]\n",
      "-------------------------------------------------------------------------------------\n",
      "numpat_total               0         -0        nan        nan           0           0\n",
      "avg_similarity_5     -0.0016      0.002     -0.680      0.497      -0.006       0.003\n",
      "avg_similarity_10    -0.0019      0.005     -0.351      0.726      -0.012       0.009\n",
      "avg_similarity_20     0.0042      0.005      0.807      0.420      -0.006       0.014\n",
      "nw                   -0.0012      0.001     -0.877      0.380      -0.004       0.002\n",
      "nb                    0.0003      0.001      0.263      0.793      -0.002       0.003\n",
      "nt                    0.0004      0.001      0.447      0.655      -0.001       0.002\n",
      "nwc                   0.0008      0.001      0.682      0.495      -0.001       0.003\n",
      "nov                  -0.0012      0.001     -0.813      0.416      -0.004       0.002\n",
      "ar.L1                -0.1602      0.020     -8.143      0.000      -0.199      -0.122\n",
      "ma.L1                -0.7803      0.015    -50.748      0.000      -0.810      -0.750\n",
      "sigma2                0.0002   1.48e-06    103.958      0.000       0.000       0.000\n",
      "===================================================================================\n",
      "Ljung-Box (L1) (Q):                   0.77   Jarque-Bera (JB):             43687.59\n",
      "Prob(Q):                              0.38   Prob(JB):                         0.00\n",
      "Heteroskedasticity (H):               1.42   Skew:                             1.27\n",
      "Prob(H) (two-sided):                  0.00   Kurtosis:                        26.85\n",
      "===================================================================================\n",
      "\n",
      "Warnings:\n",
      "[1] Covariance matrix calculated using the outer product of gradients (complex-step).\n",
      "[2] Covariance matrix is singular or near-singular, with condition number    inf. Standard errors may be unstable.\n",
      "Mean Squared Error: 0.00011536545674962604\n"
     ]
    }
   ],
   "source": [
    "\n",
    "\n",
    "import warnings\n",
    "warnings.filterwarnings(\"ignore\")\n",
    "\n",
    "# Specify the order of the ARIMA model (p, d, q)\n",
    "p = 1  # AR order\n",
    "d = 1  # Differencing order\n",
    "q = 1  # MA order\n",
    "\n",
    "for company in companies:\n",
    "    # Subset the data for the current company\n",
    "    df_company = df_timeseries[df_timeseries['ticker'] == company].copy()\n",
    "    # Resample time series because it only includes business days\n",
    "    df_company = df_company.resample('B').interpolate()\n",
    "    # Separate the target variable (stock values) and covariates\n",
    "    y = df_company['Adj Close']\n",
    "    X = df_company.drop(columns=[\"Adj Close\", \"ticker\"])\n",
    "\n",
    "    # Split the data into train and test based on date\n",
    "    test_start_date = pd.to_datetime('2017-01-01')\n",
    "    X_train = X[X.index < test_start_date]\n",
    "    X_test = X[X.index >= test_start_date]\n",
    "    y_train = y[y.index < test_start_date]\n",
    "    y_test = y[y.index >= test_start_date]\n",
    "\n",
    "    # Standardize the covariates using a scaler\n",
    "    scaler = StandardScaler()\n",
    "    X_train_scaled = scaler.fit_transform(X_train)\n",
    "    X_test_scaled = scaler.transform(X_test)\n",
    "\n",
    "    # Convert the scaled arrays back to a DataFrame with original column names\n",
    "    X_train_scaled = pd.DataFrame(X_train_scaled, columns=X_train.columns, index=X_train.index)\n",
    "    X_test_scaled = pd.DataFrame(X_test_scaled, columns=X_test.columns, index=X_test.index)\n",
    "\n",
    "    # Fit the ARIMA model with exogenous variables\n",
    "    model = ARIMA(y_train, order=(p, d, q), exog=X_train_scaled)\n",
    "    model_fit = model.fit()\n",
    "\n",
    "    print(\"--------------------------\")\n",
    "    print(f\"Company: {company}\")\n",
    "    print(model_fit.summary())\n",
    "    # Make predictions on the test set with exogenous variables\n",
    "    y_pred = model_fit.predict(start=len(y_train), end=len(y_train) + len(y_test) - 1, exog=X_test_scaled)\n",
    "\n",
    "    # Calculate the mean squared error (MSE) on the test set\n",
    "    mse = mean_squared_error(y_test, y_pred)\n",
    "    print(f\"Mean Squared Error: {mse}\")\n",
    "\n"
   ]
  }
 ],
 "metadata": {
  "kernelspec": {
   "display_name": "forecast_text",
   "language": "python",
   "name": "python3"
  },
  "language_info": {
   "codemirror_mode": {
    "name": "ipython",
    "version": 3
   },
   "file_extension": ".py",
   "mimetype": "text/x-python",
   "name": "python",
   "nbconvert_exporter": "python",
   "pygments_lexer": "ipython3",
   "version": "3.11.3"
  },
  "orig_nbformat": 4
 },
 "nbformat": 4,
 "nbformat_minor": 2
}
