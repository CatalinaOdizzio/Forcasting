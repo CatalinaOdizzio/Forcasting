{
 "cells": [
  {
   "attachments": {},
   "cell_type": "markdown",
   "metadata": {},
   "source": [
    "## Stock market prediction based on patent novelty\n"
   ]
  },
  {
   "cell_type": "code",
   "execution_count": 1,
   "metadata": {},
   "outputs": [],
   "source": [
    "import pandas as pd"
   ]
  },
  {
   "cell_type": "code",
   "execution_count": 2,
   "metadata": {},
   "outputs": [
    {
     "name": "stdout",
     "output_type": "stream",
     "text": [
      "(427, 15)\n",
      "(369810, 3)\n"
     ]
    }
   ],
   "source": [
    "df = pd.read_csv(\"data/all_novelty.csv\")\n",
    "stock_prices = pd.read_csv(\"data/stockprices_2000_2020.csv\")\n",
    "print(df.shape)\n",
    "print(stock_prices.shape)"
   ]
  },
  {
   "cell_type": "code",
   "execution_count": 3,
   "metadata": {},
   "outputs": [
    {
     "data": {
      "text/plain": [
       "ticker\n",
       "CL     335\n",
       "CHD     70\n",
       "HSY     18\n",
       "CPB      4\n",
       "Name: count, dtype: int64"
      ]
     },
     "execution_count": 3,
     "metadata": {},
     "output_type": "execute_result"
    }
   ],
   "source": [
    "df.ticker.value_counts()"
   ]
  },
  {
   "cell_type": "code",
   "execution_count": 4,
   "metadata": {},
   "outputs": [
    {
     "data": {
      "text/plain": [
       "(21132, 3)"
      ]
     },
     "execution_count": 4,
     "metadata": {},
     "output_type": "execute_result"
    }
   ],
   "source": [
    "stock_prices = stock_prices[(stock_prices[\"Ticker\"]==\"CL\") | \n",
    "                            (stock_prices[\"Ticker\"]==\"CHD\") |\n",
    "                            (stock_prices[\"Ticker\"]==\"HSY\") |\n",
    "                            (stock_prices[\"Ticker\"]==\"CPB\")]\n",
    "stock_prices.shape"
   ]
  },
  {
   "cell_type": "code",
   "execution_count": 5,
   "metadata": {},
   "outputs": [],
   "source": [
    "# Keeping range of dates for which we have patent data\n",
    "\n",
    "stock_prices[\"date\"] = pd.to_datetime(stock_prices[\"Date\"])\n",
    "df[\"date\"] = pd.to_datetime(df[\"issue_date\"])\n",
    "stock_prices = stock_prices[(stock_prices[\"date\"]>=df.date.min()) &\n",
    "                            (stock_prices[\"date\"]<=df.date.max())]\n",
    "stock_prices = stock_prices.drop(columns=[\"Date\"])\n",
    "\n",
    "stock_prices = stock_prices.rename(columns={'Ticker': 'ticker'})"
   ]
  },
  {
   "cell_type": "code",
   "execution_count": 6,
   "metadata": {},
   "outputs": [
    {
     "data": {
      "text/plain": [
       "(256, 12)"
      ]
     },
     "execution_count": 6,
     "metadata": {},
     "output_type": "execute_result"
    }
   ],
   "source": [
    "# Many patents are published on the same date - we average the novelty measures\n",
    "\n",
    "df_reduc = df.drop(columns=[\"text\", \"patent_id\", \"clean_corpus\", \"issue_date\"])\n",
    "df2_avg = df_reduc.groupby(['ticker', 'date', 'sector']).mean().reset_index()\n",
    "df2_avg.shape"
   ]
  },
  {
   "cell_type": "code",
   "execution_count": 7,
   "metadata": {},
   "outputs": [
    {
     "data": {
      "text/plain": [
       "(8928, 13)"
      ]
     },
     "execution_count": 7,
     "metadata": {},
     "output_type": "execute_result"
    }
   ],
   "source": [
    "# Merging the two datasets\n",
    "merged = pd.merge(stock_prices, df2_avg, on=[\"date\", \"ticker\"], how=\"left\")\n",
    "merged.shape"
   ]
  },
  {
   "attachments": {},
   "cell_type": "markdown",
   "metadata": {},
   "source": [
    "We end up with a dataset with a lot of NA values, since we have data for 8928 days/tickers, but new patents were only released in 256 cases."
   ]
  },
  {
   "cell_type": "code",
   "execution_count": 8,
   "metadata": {},
   "outputs": [],
   "source": [
    "merged.to_csv(\"data/stockprices_novelty_merged.csv\")"
   ]
  },
  {
   "attachments": {},
   "cell_type": "markdown",
   "metadata": {},
   "source": [
    "## Preprocessing and modelling"
   ]
  },
  {
   "cell_type": "code",
   "execution_count": 8,
   "metadata": {},
   "outputs": [],
   "source": [
    "df = pd.read_csv(\"data/stockprices_novelty_merged.csv\").drop(columns=[\"Unnamed: 0\"])\n",
    "\n",
    "# Sector does not give us extra information\n",
    "\n",
    "df = df.drop(columns=[\"sector\"])\n",
    "\n",
    "import pandas as pd\n",
    "\n",
    "# Calculate the maximum value within each group\n",
    "numpatents = df.groupby('ticker')['numpat_total'].transform('max')\n",
    "\n",
    "# Assign the maximum values to a new column 'max_value'\n",
    "df['numpat_total'] = numpatents\n",
    "\n"
   ]
  },
  {
   "attachments": {},
   "cell_type": "markdown",
   "metadata": {},
   "source": [
    "### Model 1\n",
    "\n",
    "+ Effect of new patent on the same day (no lags). \n",
    "+ Missing values imputed as 0 (signaling \"no innovation\"). \n",
    "+ Fixed effects by company (ticker dummies).\n",
    "+ Model: SVR"
   ]
  },
  {
   "cell_type": "code",
   "execution_count": 66,
   "metadata": {},
   "outputs": [],
   "source": [
    "# OHE for ticker\n",
    "\n",
    "dummies = pd.get_dummies(df['ticker'], dtype=int)\n",
    "merged = pd.concat([df, dummies], axis=1)\n",
    "\n",
    "merged = merged.drop(columns=[\"ticker\", \"date\"])\n",
    "\n",
    "# Filling NAs with 0 (signaling \"no innovation\")\n",
    "\n",
    "merged = merged.fillna(0)"
   ]
  },
  {
   "cell_type": "code",
   "execution_count": 67,
   "metadata": {},
   "outputs": [],
   "source": [
    "# Splitting and scaling\n",
    "\n",
    "import pandas as pd\n",
    "from sklearn.model_selection import train_test_split\n",
    "from sklearn.preprocessing import StandardScaler\n",
    "\n",
    "X = merged.drop('Adj Close', axis=1)  # Features\n",
    "y = merged['Adj Close']  # Target variable\n",
    "\n",
    "# Split the data into training and test sets\n",
    "X_train, X_test, y_train, y_test = train_test_split(X, y, test_size=0.2, random_state=42)\n",
    "\n",
    "# Create a StandardScaler object\n",
    "scaler = StandardScaler()\n",
    "\n",
    "# Fit the scaler on the training features\n",
    "scaler.fit(X_train)\n",
    "\n",
    "# Apply the scaler to both the training and test features\n",
    "X_train_scaled = scaler.transform(X_train)\n",
    "X_test_scaled = scaler.transform(X_test)\n"
   ]
  },
  {
   "attachments": {},
   "cell_type": "markdown",
   "metadata": {},
   "source": [
    "SVR"
   ]
  },
  {
   "cell_type": "code",
   "execution_count": 68,
   "metadata": {},
   "outputs": [
    {
     "name": "stdout",
     "output_type": "stream",
     "text": [
      "Mean Squared Error: 0.00017818296475688932\n"
     ]
    }
   ],
   "source": [
    "from sklearn.svm import SVR\n",
    "\n",
    "\n",
    "# Create an SVR object with default hyperparameters\n",
    "svr = SVR()\n",
    "\n",
    "# Fit the SVR model to the training data\n",
    "svr.fit(X_train_scaled, y_train)\n",
    "\n",
    "# Make predictions on the test data\n",
    "y_pred = svr.predict(X_test_scaled)\n",
    "\n",
    "# Evaluate the model's performance (e.g., using mean squared error)\n",
    "from sklearn.metrics import mean_squared_error\n",
    "\n",
    "mse = mean_squared_error(y_test, y_pred)\n",
    "print(\"Mean Squared Error:\", mse)\n"
   ]
  },
  {
   "attachments": {},
   "cell_type": "markdown",
   "metadata": {},
   "source": [
    "### Model 2\n",
    "+ Effect of new patent on the following day. \n",
    "+ Missing values imputed as 0 (signaling \"no innovation\"). \n",
    "+ Fixed effects by company (ticker dummies).\n",
    "+ Model: SVR"
   ]
  },
  {
   "cell_type": "code",
   "execution_count": 69,
   "metadata": {},
   "outputs": [],
   "source": [
    "# Shifting target by 1 day\n",
    "\n",
    "# Function for defining Y variable\n",
    "\n",
    "def make_target(df, t):\n",
    "    '''t is the number of periods to shift forward'''\n",
    "    df[\"date\"] = pd.to_datetime(df[\"date\"])\n",
    "    df = df.sort_values(by=['ticker', 'date'])\n",
    "\n",
    "    # loop through each period and generate the shift variables\n",
    "    for i in range(1, t+1):\n",
    "        col_name = f'Adj Close{i}'\n",
    "        df[col_name] = df.groupby(['ticker'])['Adj Close'].shift(-i)\n",
    "\n",
    "    # take the maximum for t periods forward and create the new variable\n",
    "    df['target_f{}'.format(t)] = df[[f'Adj Close{i}' for i in range(1, t+1)]].max(axis=1, skipna=False)\n",
    "\n",
    "    # drop the shift variables\n",
    "    df = df.drop(columns=[f'Adj Close{i}' for i in range(1, t+1)])\n",
    "\n",
    "    return(df)"
   ]
  },
  {
   "cell_type": "code",
   "execution_count": 70,
   "metadata": {},
   "outputs": [
    {
     "data": {
      "text/html": [
       "<div>\n",
       "<style scoped>\n",
       "    .dataframe tbody tr th:only-of-type {\n",
       "        vertical-align: middle;\n",
       "    }\n",
       "\n",
       "    .dataframe tbody tr th {\n",
       "        vertical-align: top;\n",
       "    }\n",
       "\n",
       "    .dataframe thead th {\n",
       "        text-align: right;\n",
       "    }\n",
       "</style>\n",
       "<table border=\"1\" class=\"dataframe\">\n",
       "  <thead>\n",
       "    <tr style=\"text-align: right;\">\n",
       "      <th></th>\n",
       "      <th>ticker</th>\n",
       "      <th>Adj Close</th>\n",
       "      <th>date</th>\n",
       "      <th>numpat_total</th>\n",
       "      <th>avg_similarity_5</th>\n",
       "      <th>avg_similarity_10</th>\n",
       "      <th>avg_similarity_20</th>\n",
       "      <th>nw</th>\n",
       "      <th>nb</th>\n",
       "      <th>nt</th>\n",
       "      <th>nwc</th>\n",
       "      <th>nov</th>\n",
       "      <th>target_f1</th>\n",
       "    </tr>\n",
       "  </thead>\n",
       "  <tbody>\n",
       "    <tr>\n",
       "      <th>8923</th>\n",
       "      <td>HSY</td>\n",
       "      <td>0.003343</td>\n",
       "      <td>2018-11-07</td>\n",
       "      <td>27.0</td>\n",
       "      <td>NaN</td>\n",
       "      <td>NaN</td>\n",
       "      <td>NaN</td>\n",
       "      <td>NaN</td>\n",
       "      <td>NaN</td>\n",
       "      <td>NaN</td>\n",
       "      <td>NaN</td>\n",
       "      <td>NaN</td>\n",
       "      <td>-0.009070</td>\n",
       "    </tr>\n",
       "    <tr>\n",
       "      <th>8924</th>\n",
       "      <td>HSY</td>\n",
       "      <td>-0.009070</td>\n",
       "      <td>2018-11-08</td>\n",
       "      <td>27.0</td>\n",
       "      <td>NaN</td>\n",
       "      <td>NaN</td>\n",
       "      <td>NaN</td>\n",
       "      <td>NaN</td>\n",
       "      <td>NaN</td>\n",
       "      <td>NaN</td>\n",
       "      <td>NaN</td>\n",
       "      <td>NaN</td>\n",
       "      <td>0.014103</td>\n",
       "    </tr>\n",
       "    <tr>\n",
       "      <th>8925</th>\n",
       "      <td>HSY</td>\n",
       "      <td>0.014103</td>\n",
       "      <td>2018-11-09</td>\n",
       "      <td>27.0</td>\n",
       "      <td>NaN</td>\n",
       "      <td>NaN</td>\n",
       "      <td>NaN</td>\n",
       "      <td>NaN</td>\n",
       "      <td>NaN</td>\n",
       "      <td>NaN</td>\n",
       "      <td>NaN</td>\n",
       "      <td>NaN</td>\n",
       "      <td>0.000829</td>\n",
       "    </tr>\n",
       "    <tr>\n",
       "      <th>8926</th>\n",
       "      <td>HSY</td>\n",
       "      <td>0.000829</td>\n",
       "      <td>2018-11-12</td>\n",
       "      <td>27.0</td>\n",
       "      <td>NaN</td>\n",
       "      <td>NaN</td>\n",
       "      <td>NaN</td>\n",
       "      <td>NaN</td>\n",
       "      <td>NaN</td>\n",
       "      <td>NaN</td>\n",
       "      <td>NaN</td>\n",
       "      <td>NaN</td>\n",
       "      <td>0.004325</td>\n",
       "    </tr>\n",
       "    <tr>\n",
       "      <th>8927</th>\n",
       "      <td>HSY</td>\n",
       "      <td>0.004325</td>\n",
       "      <td>2018-11-13</td>\n",
       "      <td>27.0</td>\n",
       "      <td>0.235248</td>\n",
       "      <td>0.138532</td>\n",
       "      <td>0.097133</td>\n",
       "      <td>NaN</td>\n",
       "      <td>NaN</td>\n",
       "      <td>NaN</td>\n",
       "      <td>NaN</td>\n",
       "      <td>NaN</td>\n",
       "      <td>NaN</td>\n",
       "    </tr>\n",
       "  </tbody>\n",
       "</table>\n",
       "</div>"
      ],
      "text/plain": [
       "     ticker  Adj Close       date  numpat_total  avg_similarity_5   \n",
       "8923    HSY   0.003343 2018-11-07          27.0               NaN  \\\n",
       "8924    HSY  -0.009070 2018-11-08          27.0               NaN   \n",
       "8925    HSY   0.014103 2018-11-09          27.0               NaN   \n",
       "8926    HSY   0.000829 2018-11-12          27.0               NaN   \n",
       "8927    HSY   0.004325 2018-11-13          27.0          0.235248   \n",
       "\n",
       "      avg_similarity_10  avg_similarity_20  nw  nb  nt  nwc  nov  target_f1  \n",
       "8923                NaN                NaN NaN NaN NaN  NaN  NaN  -0.009070  \n",
       "8924                NaN                NaN NaN NaN NaN  NaN  NaN   0.014103  \n",
       "8925                NaN                NaN NaN NaN NaN  NaN  NaN   0.000829  \n",
       "8926                NaN                NaN NaN NaN NaN  NaN  NaN   0.004325  \n",
       "8927           0.138532           0.097133 NaN NaN NaN  NaN  NaN        NaN  "
      ]
     },
     "execution_count": 70,
     "metadata": {},
     "output_type": "execute_result"
    }
   ],
   "source": [
    "df_target = make_target(df, 1)\n",
    "df_target.tail()"
   ]
  },
  {
   "cell_type": "code",
   "execution_count": 71,
   "metadata": {},
   "outputs": [],
   "source": [
    "# OHE for ticker\n",
    "\n",
    "dummies = pd.get_dummies(df_target['ticker'], dtype=int)\n",
    "merged = pd.concat([df_target, dummies], axis=1)\n",
    "\n",
    "merged = merged.drop(columns=[\"ticker\", \"Adj Close\", \"date\"])\n",
    "\n",
    "# Filling NAs with 0 (signaling \"no innovation\")\n",
    "\n",
    "merged = merged.fillna(0)\n"
   ]
  },
  {
   "cell_type": "code",
   "execution_count": 72,
   "metadata": {},
   "outputs": [],
   "source": [
    "X = merged.drop('target_f1', axis=1)  # Features\n",
    "y = merged['target_f1']  # Target variable\n",
    "\n",
    "# Split the data into training and test sets\n",
    "X_train, X_test, y_train, y_test = train_test_split(X, y, test_size=0.2, random_state=42)\n",
    "\n",
    "# Create a StandardScaler object\n",
    "scaler = StandardScaler()\n",
    "\n",
    "# Fit the scaler on the training features\n",
    "scaler.fit(X_train)\n",
    "\n",
    "# Apply the scaler to both the training and test features\n",
    "X_train_scaled = scaler.transform(X_train)\n",
    "X_test_scaled = scaler.transform(X_test)"
   ]
  },
  {
   "cell_type": "code",
   "execution_count": 73,
   "metadata": {},
   "outputs": [
    {
     "name": "stdout",
     "output_type": "stream",
     "text": [
      "Mean Squared Error: 0.00017164353386163114\n"
     ]
    }
   ],
   "source": [
    "# Create an SVR object with default hyperparameters\n",
    "svr = SVR()\n",
    "\n",
    "# Fit the SVR model to the training data\n",
    "svr.fit(X_train_scaled, y_train)\n",
    "\n",
    "# Make predictions on the test data\n",
    "y_pred = svr.predict(X_test_scaled)\n",
    "\n",
    "mse = mean_squared_error(y_test, y_pred)\n",
    "print(\"Mean Squared Error:\", mse)"
   ]
  },
  {
   "attachments": {},
   "cell_type": "markdown",
   "metadata": {},
   "source": [
    "### Model 3\n",
    "+ Effect of new patent on the following day. \n",
    "+ Missing values imputed as 0 (signaling \"no innovation\"). \n",
    "+ Fixed effects by company (ticker dummies).\n",
    "+ Model: RF + hyperparameter tunning"
   ]
  },
  {
   "cell_type": "code",
   "execution_count": 74,
   "metadata": {},
   "outputs": [
    {
     "name": "stdout",
     "output_type": "stream",
     "text": [
      "Mean Squared Error: 0.00012025289597627424\n"
     ]
    }
   ],
   "source": [
    "from sklearn.model_selection import GridSearchCV\n",
    "\n",
    "param_grid = {\n",
    "    'n_estimators': [50, 100, 150, 200, 300],\n",
    "    'max_depth': [None, 5, 7, 10, 20],\n",
    "    'min_samples_split': [2, 5, 10, 15, 20]\n",
    "}\n",
    "\n",
    "rf_model = RandomForestRegressor(random_state=42)\n",
    "\n",
    "grid_search = GridSearchCV(estimator=rf_model, param_grid=param_grid, cv=5, scoring='neg_mean_squared_error', n_jobs=-1)\n",
    "grid_search.fit(X_train_scaled, y_train)\n",
    "\n",
    "best_model = grid_search.best_estimator_\n",
    "\n",
    "y_pred = best_model.predict(X_test_scaled)\n",
    "mse = mean_squared_error(y_test, y_pred)\n",
    "print(\"Mean Squared Error:\", mse)\n",
    "\n"
   ]
  },
  {
   "cell_type": "code",
   "execution_count": 75,
   "metadata": {},
   "outputs": [],
   "source": [
    "import seaborn as sns\n",
    "import matplotlib.pyplot as plt\n",
    "\n",
    "def feature_imp(coef, names):\n",
    "    imp = coef\n",
    "    indexes = np.argsort(imp)[-11:]\n",
    "    indexes = list(indexes)\n",
    "    \n",
    "    plt.barh(range(len(indexes)), imp[indexes], align='center')\n",
    "    plt.yticks(range(len(indexes)), [names[i] for i in indexes])\n",
    "    plt.show()\n",
    "    \n",
    "    return indexes"
   ]
  },
  {
   "cell_type": "code",
   "execution_count": 76,
   "metadata": {},
   "outputs": [
    {
     "data": {
      "image/png": "[encoded data removed]",
      "text/plain": [
       "<Figure size 640x480 with 1 Axes>"
      ]
     },
     "metadata": {},
     "output_type": "display_data"
    },
    {
     "data": {
      "text/plain": [
       "[4, 0, 11, 9, 5, 3, 6, 1, 2, 8, 7]"
      ]
     },
     "execution_count": 76,
     "metadata": {},
     "output_type": "execute_result"
    }
   ],
   "source": [
    "feature_names = X_train.columns\n",
    "\n",
    "feature_imp(abs(best_model.feature_importances_), feature_names)"
   ]
  },
  {
   "attachments": {},
   "cell_type": "markdown",
   "metadata": {},
   "source": [
    "### Model 4\n",
    "+ Effect of new patent on the following day. \n",
    "+ Missing values imputed as 0 (signaling \"no innovation\"). \n",
    "+ Fixed effects by company (ticker dummies).\n",
    "+ Include past information for stock market variation (lags)\n",
    "+ Model: RF + hyperparameter tunning"
   ]
  },
  {
   "cell_type": "code",
   "execution_count": 107,
   "metadata": {},
   "outputs": [
    {
     "data": {
      "text/html": [
       "<div>\n",
       "<style scoped>\n",
       "    .dataframe tbody tr th:only-of-type {\n",
       "        vertical-align: middle;\n",
       "    }\n",
       "\n",
       "    .dataframe tbody tr th {\n",
       "        vertical-align: top;\n",
       "    }\n",
       "\n",
       "    .dataframe thead th {\n",
       "        text-align: right;\n",
       "    }\n",
       "</style>\n",
       "<table border=\"1\" class=\"dataframe\">\n",
       "  <thead>\n",
       "    <tr style=\"text-align: right;\">\n",
       "      <th></th>\n",
       "      <th>ticker</th>\n",
       "      <th>Adj Close</th>\n",
       "      <th>date</th>\n",
       "      <th>numpat_total</th>\n",
       "      <th>avg_similarity_5</th>\n",
       "      <th>avg_similarity_10</th>\n",
       "      <th>avg_similarity_20</th>\n",
       "      <th>nw</th>\n",
       "      <th>nb</th>\n",
       "      <th>nt</th>\n",
       "      <th>nwc</th>\n",
       "      <th>nov</th>\n",
       "      <th>target_f1</th>\n",
       "    </tr>\n",
       "  </thead>\n",
       "  <tbody>\n",
       "    <tr>\n",
       "      <th>8923</th>\n",
       "      <td>HSY</td>\n",
       "      <td>0.003343</td>\n",
       "      <td>2018-11-07</td>\n",
       "      <td>27.0</td>\n",
       "      <td>NaN</td>\n",
       "      <td>NaN</td>\n",
       "      <td>NaN</td>\n",
       "      <td>NaN</td>\n",
       "      <td>NaN</td>\n",
       "      <td>NaN</td>\n",
       "      <td>NaN</td>\n",
       "      <td>NaN</td>\n",
       "      <td>-0.009070</td>\n",
       "    </tr>\n",
       "    <tr>\n",
       "      <th>8924</th>\n",
       "      <td>HSY</td>\n",
       "      <td>-0.009070</td>\n",
       "      <td>2018-11-08</td>\n",
       "      <td>27.0</td>\n",
       "      <td>NaN</td>\n",
       "      <td>NaN</td>\n",
       "      <td>NaN</td>\n",
       "      <td>NaN</td>\n",
       "      <td>NaN</td>\n",
       "      <td>NaN</td>\n",
       "      <td>NaN</td>\n",
       "      <td>NaN</td>\n",
       "      <td>0.014103</td>\n",
       "    </tr>\n",
       "    <tr>\n",
       "      <th>8925</th>\n",
       "      <td>HSY</td>\n",
       "      <td>0.014103</td>\n",
       "      <td>2018-11-09</td>\n",
       "      <td>27.0</td>\n",
       "      <td>NaN</td>\n",
       "      <td>NaN</td>\n",
       "      <td>NaN</td>\n",
       "      <td>NaN</td>\n",
       "      <td>NaN</td>\n",
       "      <td>NaN</td>\n",
       "      <td>NaN</td>\n",
       "      <td>NaN</td>\n",
       "      <td>0.000829</td>\n",
       "    </tr>\n",
       "    <tr>\n",
       "      <th>8926</th>\n",
       "      <td>HSY</td>\n",
       "      <td>0.000829</td>\n",
       "      <td>2018-11-12</td>\n",
       "      <td>27.0</td>\n",
       "      <td>NaN</td>\n",
       "      <td>NaN</td>\n",
       "      <td>NaN</td>\n",
       "      <td>NaN</td>\n",
       "      <td>NaN</td>\n",
       "      <td>NaN</td>\n",
       "      <td>NaN</td>\n",
       "      <td>NaN</td>\n",
       "      <td>0.004325</td>\n",
       "    </tr>\n",
       "    <tr>\n",
       "      <th>8927</th>\n",
       "      <td>HSY</td>\n",
       "      <td>0.004325</td>\n",
       "      <td>2018-11-13</td>\n",
       "      <td>27.0</td>\n",
       "      <td>0.235248</td>\n",
       "      <td>0.138532</td>\n",
       "      <td>0.097133</td>\n",
       "      <td>NaN</td>\n",
       "      <td>NaN</td>\n",
       "      <td>NaN</td>\n",
       "      <td>NaN</td>\n",
       "      <td>NaN</td>\n",
       "      <td>NaN</td>\n",
       "    </tr>\n",
       "  </tbody>\n",
       "</table>\n",
       "</div>"
      ],
      "text/plain": [
       "     ticker  Adj Close       date  numpat_total  avg_similarity_5   \n",
       "8923    HSY   0.003343 2018-11-07          27.0               NaN  \\\n",
       "8924    HSY  -0.009070 2018-11-08          27.0               NaN   \n",
       "8925    HSY   0.014103 2018-11-09          27.0               NaN   \n",
       "8926    HSY   0.000829 2018-11-12          27.0               NaN   \n",
       "8927    HSY   0.004325 2018-11-13          27.0          0.235248   \n",
       "\n",
       "      avg_similarity_10  avg_similarity_20  nw  nb  nt  nwc  nov  target_f1  \n",
       "8923                NaN                NaN NaN NaN NaN  NaN  NaN  -0.009070  \n",
       "8924                NaN                NaN NaN NaN NaN  NaN  NaN   0.014103  \n",
       "8925                NaN                NaN NaN NaN NaN  NaN  NaN   0.000829  \n",
       "8926                NaN                NaN NaN NaN NaN  NaN  NaN   0.004325  \n",
       "8927           0.138532           0.097133 NaN NaN NaN  NaN  NaN        NaN  "
      ]
     },
     "execution_count": 107,
     "metadata": {},
     "output_type": "execute_result"
    }
   ],
   "source": [
    "df_target = make_target(df, 1)\n",
    "df_target.tail()"
   ]
  },
  {
   "cell_type": "code",
   "execution_count": 108,
   "metadata": {},
   "outputs": [],
   "source": [
    "# Here we generate variables for the past 3 to 120 days with a rolling mean of Adj Close\n",
    "df_target[\"date\"] = pd.to_datetime(df_target[\"date\"])\n",
    "panel_data= df_target.copy()\n",
    "panel_data = panel_data.sort_values(by=['ticker', 'date'])\n",
    "lcols = (panel_data.groupby(['ticker'])['Adj Close'] \n",
    "         .transform(lambda x: x.rolling(w, min_periods=1).sum()) # rolling sum of number of reports\n",
    "         .rename('past' + str(w-1)) \n",
    "         for w in [4, 7, 16, 31, 61, 121])\n",
    "panel_data = panel_data.join(pd.DataFrame(lcols).transpose())"
   ]
  },
  {
   "cell_type": "code",
   "execution_count": 111,
   "metadata": {},
   "outputs": [],
   "source": [
    "# OHE for ticker\n",
    "\n",
    "dummies = pd.get_dummies(panel_data['ticker'], dtype=int)\n",
    "merged = pd.concat([panel_data, dummies], axis=1)\n",
    "\n",
    "merged = merged.drop(columns=[\"ticker\", \"Adj Close\", \"date\"])\n",
    "\n",
    "# Filling NAs with 0 (signaling \"no innovation\")\n",
    "\n",
    "merged = merged.fillna(0)"
   ]
  },
  {
   "cell_type": "code",
   "execution_count": 112,
   "metadata": {},
   "outputs": [],
   "source": [
    "X = merged.drop('target_f1', axis=1)  # Features\n",
    "y = merged['target_f1']  # Target variable\n",
    "\n",
    "# Split the data into training and test sets\n",
    "X_train, X_test, y_train, y_test = train_test_split(X, y, test_size=0.2, random_state=42)\n",
    "\n",
    "# Create a StandardScaler object\n",
    "scaler = StandardScaler()\n",
    "\n",
    "# Fit the scaler on the training features\n",
    "scaler.fit(X_train)\n",
    "\n",
    "# Apply the scaler to both the training and test features\n",
    "X_train_scaled = scaler.transform(X_train)\n",
    "X_test_scaled = scaler.transform(X_test)"
   ]
  },
  {
   "cell_type": "code",
   "execution_count": 113,
   "metadata": {},
   "outputs": [
    {
     "name": "stdout",
     "output_type": "stream",
     "text": [
      "Mean Squared Error: 0.00011962818587825299\n"
     ]
    }
   ],
   "source": [
    "from sklearn.model_selection import GridSearchCV\n",
    "\n",
    "param_grid = {\n",
    "    'n_estimators': [50, 100, 150, 200, 300],\n",
    "    'max_depth': [None, 5, 7, 10, 20],\n",
    "    'min_samples_split': [2, 5, 10, 15, 20]\n",
    "}\n",
    "\n",
    "rf_model = RandomForestRegressor(random_state=42)\n",
    "\n",
    "grid_search = GridSearchCV(estimator=rf_model, param_grid=param_grid, cv=5, scoring='neg_mean_squared_error', n_jobs=-1)\n",
    "grid_search.fit(X_train_scaled, y_train)\n",
    "\n",
    "best_model = grid_search.best_estimator_\n",
    "\n",
    "y_pred = best_model.predict(X_test_scaled)\n",
    "mse = mean_squared_error(y_test, y_pred)\n",
    "print(\"Mean Squared Error:\", mse)"
   ]
  },
  {
   "cell_type": "code",
   "execution_count": 114,
   "metadata": {},
   "outputs": [
    {
     "data": {
      "image/png": "[encoded data removed]",
      "text/plain": [
       "<Figure size 640x480 with 1 Axes>"
      ]
     },
     "metadata": {},
     "output_type": "display_data"
    },
    {
     "data": {
      "text/plain": [
       "[6, 1, 3, 2, 0, 12, 9, 10, 13, 11, 14]"
      ]
     },
     "execution_count": 114,
     "metadata": {},
     "output_type": "execute_result"
    }
   ],
   "source": [
    "feature_names = X_train.columns\n",
    "\n",
    "feature_imp(abs(best_model.feature_importances_), feature_names)"
   ]
  },
  {
   "attachments": {},
   "cell_type": "markdown",
   "metadata": {},
   "source": [
    "### Model 5\n",
    "\n",
    "+ Effect of new patent on the following day. \n",
    "+ Missing values imputed as 0 (signaling \"no innovation\"). \n",
    "+ Instead of fixed effects by company (ticker dummies), one model per company.\n",
    "+ Include past information for stock market variation (lags)\n",
    "+ Model: RF + hyperparameter tunning\n",
    "\n"
   ]
  },
  {
   "cell_type": "code",
   "execution_count": 115,
   "metadata": {},
   "outputs": [],
   "source": [
    "df_copy = panel_data.copy()\n",
    "\n",
    "# Filling NAs with 0 (signaling \"no innovation\")\n",
    "df_copy = df_copy.fillna(0)\n",
    "\n",
    "# Drop unnecesary columns\n",
    "df_copy = df_copy.drop(columns=[\"Adj Close\", \"date\"])"
   ]
  },
  {
   "cell_type": "code",
   "execution_count": 117,
   "metadata": {},
   "outputs": [],
   "source": [
    "# Get the unique company names from the DataFrame\n",
    "companies = df_copy['ticker'].unique()\n",
    "\n",
    "# Create an empty dictionary to store the trained models and MSE values\n",
    "results = {}\n",
    "\n",
    "# Define the parameter grid for grid search\n",
    "param_grid = {\n",
    "    'n_estimators': [50, 100, 150, 200, 300],\n",
    "    'max_depth': [None, 5, 7, 10, 20],\n",
    "    'min_samples_split': [2, 5, 10, 15, 20]\n",
    "}\n",
    "\n",
    "# Iterate over the companies\n",
    "for company in companies:\n",
    "    # Subset the data for the current company\n",
    "    company_data = df_copy[df_copy['ticker'] == company]\n",
    "    company_data = company_data.dropna()\n",
    "    \n",
    "    # Separate the features and the target variable\n",
    "    X = company_data.drop(columns=[\"target_f1\", \"ticker\"])\n",
    "    y = company_data['target_f1']\n",
    "    \n",
    "     # Split the data into training and test sets\n",
    "    X_train, X_test, y_train, y_test = train_test_split(X, y, test_size=0.2, random_state=42)\n",
    "    \n",
    "    # Standardize the features\n",
    "    scaler = StandardScaler()\n",
    "    X_train_scaled = scaler.fit_transform(X_train)\n",
    "    X_test_scaled = scaler.transform(X_test)\n",
    "    \n",
    "    # Perform grid search for hyperparameter tuning\n",
    "    rf_model = RandomForestRegressor(random_state=42)\n",
    "    grid_search = GridSearchCV(estimator=rf_model, param_grid=param_grid, cv=5, scoring='neg_mean_squared_error', n_jobs=-1)\n",
    "    grid_search.fit(X_train_scaled, y_train)\n",
    "    \n",
    "    # Get the best model from grid search\n",
    "    best_model = grid_search.best_estimator_\n",
    "    \n",
    "    # Make predictions using the selected model\n",
    "    y_pred = best_model.predict(X_test_scaled)\n",
    "    \n",
    "    # Calculate the mean squared error for the predictions\n",
    "    mse = mean_squared_error(y_test, y_pred)\n",
    "    \n",
    "    # Store the best model and MSE in the dictionary\n",
    "    results[company] = {\n",
    "        'model': best_model,\n",
    "        'mse': mse\n",
    "    }\n",
    "\n"
   ]
  },
  {
   "cell_type": "code",
   "execution_count": 118,
   "metadata": {},
   "outputs": [
    {
     "data": {
      "text/plain": [
       "{'CHD': {'model': RandomForestRegressor(max_depth=5, n_estimators=50, random_state=42),\n",
       "  'mse': 0.0001157517253895856},\n",
       " 'CL': {'model': RandomForestRegressor(max_depth=5, n_estimators=200, random_state=42),\n",
       "  'mse': 0.0001115193311449591},\n",
       " 'CPB': {'model': RandomForestRegressor(max_depth=5, min_samples_split=20, n_estimators=300,\n",
       "                        random_state=42),\n",
       "  'mse': 0.0001123434095892501},\n",
       " 'HSY': {'model': RandomForestRegressor(max_depth=5, min_samples_split=20, n_estimators=300,\n",
       "                        random_state=42),\n",
       "  'mse': 0.0001389062458668695}}"
      ]
     },
     "execution_count": 118,
     "metadata": {},
     "output_type": "execute_result"
    }
   ],
   "source": [
    "results"
   ]
  },
  {
   "attachments": {},
   "cell_type": "markdown",
   "metadata": {},
   "source": [
    "### Model 6\n",
    "+ ARIMA"
   ]
  },
  {
   "cell_type": "code",
   "execution_count": 14,
   "metadata": {},
   "outputs": [],
   "source": [
    "# !pip install statsmodels\n",
    "from statsmodels.tsa.arima.model import ARIMA\n",
    "companies = df['ticker'].unique()"
   ]
  },
  {
   "cell_type": "code",
   "execution_count": 10,
   "metadata": {},
   "outputs": [],
   "source": [
    "df_timeseries = df.copy()\n",
    "\n",
    "df_timeseries[\"date\"] = pd.to_datetime(df_timeseries[\"date\"])\n",
    "\n",
    "# Set the 'date' column as the index\n",
    "df_timeseries.set_index('date', inplace=True)\n",
    "\n",
    "# Filling NAs with 0 (signaling \"no innovation\")\n",
    "df_timeseries = df_timeseries.fillna(0)\n"
   ]
  },
  {
   "cell_type": "code",
   "execution_count": 16,
   "metadata": {},
   "outputs": [
    {
     "name": "stdout",
     "output_type": "stream",
     "text": [
      "Company: CHD, Mean Squared Error: 0.00013153835581629329\n",
      "Company: CL, Mean Squared Error: 0.0001039980958788858\n",
      "Company: CPB, Mean Squared Error: 0.023335497817731646\n",
      "Company: HSY, Mean Squared Error: 0.00017393445288005653\n"
     ]
    }
   ],
   "source": [
    "import warnings\n",
    "warnings.filterwarnings(\"ignore\")\n",
    "\n",
    "# Specify the order of the ARIMA model (p, d, q)\n",
    "p = 1  # AR order\n",
    "d = 1  # Differencing order\n",
    "q = 1  # MA order\n",
    "\n",
    "for company in companies:\n",
    "    # Subset the data for the current company\n",
    "    df_company = df_timeseries[df_timeseries['ticker'] == company].copy()\n",
    "    # Resample time series because it only includes business days\n",
    "    df_company = df_company.resample('B').interpolate()\n",
    "    # Separate the target variable (stock values) and covariates\n",
    "    y = df_company['Adj Close']\n",
    "    X = df_company.drop(columns=[\"Adj Close\", \"ticker\"])\n",
    "\n",
    "    # Train-test split\n",
    "    X_train, X_test, y_train, y_test = train_test_split(X, y, test_size=0.2, random_state=42)\n",
    "\n",
    "    # Standardize the covariates using a scaler\n",
    "    scaler = StandardScaler()\n",
    "    X_train_scaled = scaler.fit_transform(X_train)\n",
    "    X_test_scaled = scaler.transform(X_test)\n",
    "\n",
    "    # Fit the ARIMA model with exogenous variables\n",
    "    model = ARIMA(y_train, order=(p, d, q), exog=X_train_scaled)\n",
    "    model_fit = model.fit()\n",
    "\n",
    "    # Make predictions on the test set with exogenous variables\n",
    "    y_pred = model_fit.predict(start=len(y_train), end=len(y_train) + len(y_test) - 1, exog=X_test_scaled)\n",
    "\n",
    "\n",
    "    # Calculate the mean squared error (MSE) on the test set\n",
    "    mse = mean_squared_error(y_test, y_pred)\n",
    "    print(f\"Company: {company}, Mean Squared Error: {mse}\")\n",
    "\n"
   ]
  }
 ],
 "metadata": {
  "kernelspec": {
   "display_name": "forecast_text",
   "language": "python",
   "name": "python3"
  },
  "language_info": {
   "codemirror_mode": {
    "name": "ipython",
    "version": 3
   },
   "file_extension": ".py",
   "mimetype": "text/x-python",
   "name": "python",
   "nbconvert_exporter": "python",
   "pygments_lexer": "ipython3",
   "version": "3.11.3"
  },
  "orig_nbformat": 4
 },
 "nbformat": 4,
 "nbformat_minor": 2
}
