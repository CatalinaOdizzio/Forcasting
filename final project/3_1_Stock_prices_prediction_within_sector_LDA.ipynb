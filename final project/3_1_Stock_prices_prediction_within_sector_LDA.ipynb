{
 "cells": [
  {
   "attachments": {},
   "cell_type": "markdown",
   "metadata": {},
   "source": [
    "## Stock market prediction based on patent novelty - Topic based novelty measures\n",
    "\n",
    "In this file, we make predictions using within-sector novelty measures based on the topics derived from the LDA model. In file `3_2_Stock_prices_prediction_within_sector_BoW.ipynb`, we make predictions using within-sector novelty measures based on the vector of words, and we summarize and compare the results obtained in both cases."
   ]
  },
  {
   "cell_type": "code",
   "execution_count": 1,
   "metadata": {},
   "outputs": [],
   "source": [
    "import pandas as pd\n",
    "import seaborn as sns\n",
    "import matplotlib.pyplot as plt"
   ]
  },
  {
   "cell_type": "code",
   "execution_count": 2,
   "metadata": {},
   "outputs": [
    {
     "name": "stdout",
     "output_type": "stream",
     "text": [
      "(427, 15)\n",
      "(369810, 3)\n"
     ]
    }
   ],
   "source": [
    "df = pd.read_csv(\"../data/all_novelty_within_sector.csv\")\n",
    "df = df.drop(columns=['bow_avg_similarity_5','bow_avg_similarity_10', 'bow_avg_similarity_20']) #drop words-based similarity measures\n",
    "stock_prices = pd.read_csv(\"../data/stockprices_2000_2020.csv\")\n",
    "print(df.shape)\n",
    "print(stock_prices.shape)"
   ]
  },
  {
   "cell_type": "code",
   "execution_count": 3,
   "metadata": {},
   "outputs": [
    {
     "data": {
      "text/plain": [
       "ticker\n",
       "CL     335\n",
       "CHD     70\n",
       "HSY     18\n",
       "CPB      4\n",
       "Name: count, dtype: int64"
      ]
     },
     "execution_count": 3,
     "metadata": {},
     "output_type": "execute_result"
    }
   ],
   "source": [
    "df.ticker.value_counts()"
   ]
  },
  {
   "attachments": {},
   "cell_type": "markdown",
   "metadata": {},
   "source": [
    "We find a sample with 4 companies, some of which are much more innovative than others (more patents granted)."
   ]
  },
  {
   "cell_type": "code",
   "execution_count": 4,
   "metadata": {},
   "outputs": [
    {
     "data": {
      "text/plain": [
       "(21132, 3)"
      ]
     },
     "execution_count": 4,
     "metadata": {},
     "output_type": "execute_result"
    }
   ],
   "source": [
    "stock_prices = stock_prices[(stock_prices[\"Ticker\"]==\"CL\") | \n",
    "                            (stock_prices[\"Ticker\"]==\"CHD\") |\n",
    "                            (stock_prices[\"Ticker\"]==\"HSY\") |\n",
    "                            (stock_prices[\"Ticker\"]==\"CPB\")]\n",
    "stock_prices.shape"
   ]
  },
  {
   "cell_type": "code",
   "execution_count": 5,
   "metadata": {},
   "outputs": [],
   "source": [
    "# Keeping range of dates for which we have patent data\n",
    "\n",
    "stock_prices[\"date\"] = pd.to_datetime(stock_prices[\"Date\"])\n",
    "df[\"date\"] = pd.to_datetime(df[\"issue_date\"])\n",
    "stock_prices = stock_prices[(stock_prices[\"date\"]>=df.date.min()) &\n",
    "                            (stock_prices[\"date\"]<=df.date.max())]\n",
    "stock_prices = stock_prices.drop(columns=[\"Date\"])\n",
    "\n",
    "stock_prices = stock_prices.rename(columns={'Ticker': 'ticker'})"
   ]
  },
  {
   "cell_type": "code",
   "execution_count": 6,
   "metadata": {},
   "outputs": [
    {
     "data": {
      "text/html": [
       "<div>\n",
       "<style scoped>\n",
       "    .dataframe tbody tr th:only-of-type {\n",
       "        vertical-align: middle;\n",
       "    }\n",
       "\n",
       "    .dataframe tbody tr th {\n",
       "        vertical-align: top;\n",
       "    }\n",
       "\n",
       "    .dataframe thead th {\n",
       "        text-align: right;\n",
       "    }\n",
       "</style>\n",
       "<table border=\"1\" class=\"dataframe\">\n",
       "  <thead>\n",
       "    <tr style=\"text-align: right;\">\n",
       "      <th></th>\n",
       "      <th>ticker</th>\n",
       "      <th>Adj Close</th>\n",
       "      <th>date</th>\n",
       "    </tr>\n",
       "  </thead>\n",
       "  <tbody>\n",
       "    <tr>\n",
       "      <th>145157</th>\n",
       "      <td>CHD</td>\n",
       "      <td>-0.013531</td>\n",
       "      <td>2010-01-05</td>\n",
       "    </tr>\n",
       "    <tr>\n",
       "      <th>145158</th>\n",
       "      <td>CHD</td>\n",
       "      <td>0.004792</td>\n",
       "      <td>2010-01-06</td>\n",
       "    </tr>\n",
       "    <tr>\n",
       "      <th>145159</th>\n",
       "      <td>CHD</td>\n",
       "      <td>-0.011184</td>\n",
       "      <td>2010-01-07</td>\n",
       "    </tr>\n",
       "    <tr>\n",
       "      <th>145160</th>\n",
       "      <td>CHD</td>\n",
       "      <td>-0.002162</td>\n",
       "      <td>2010-01-08</td>\n",
       "    </tr>\n",
       "    <tr>\n",
       "      <th>145161</th>\n",
       "      <td>CHD</td>\n",
       "      <td>-0.004334</td>\n",
       "      <td>2010-01-11</td>\n",
       "    </tr>\n",
       "  </tbody>\n",
       "</table>\n",
       "</div>"
      ],
      "text/plain": [
       "       ticker  Adj Close       date\n",
       "145157    CHD  -0.013531 2010-01-05\n",
       "145158    CHD   0.004792 2010-01-06\n",
       "145159    CHD  -0.011184 2010-01-07\n",
       "145160    CHD  -0.002162 2010-01-08\n",
       "145161    CHD  -0.004334 2010-01-11"
      ]
     },
     "execution_count": 6,
     "metadata": {},
     "output_type": "execute_result"
    }
   ],
   "source": [
    "stock_prices.head()"
   ]
  },
  {
   "attachments": {},
   "cell_type": "markdown",
   "metadata": {},
   "source": [
    "Because we have several cases of more than one patent granted for the same company in the same day, we need to take some aggregated measures - we take both the average similarity measures as well as the maximum."
   ]
  },
  {
   "cell_type": "code",
   "execution_count": 7,
   "metadata": {},
   "outputs": [],
   "source": [
    "# Many patents are published on the same date - we take average and max \n",
    "\n",
    "df_reduc = df.drop(columns=[\"text\", \"patent_id\", \"clean_corpus\", \"issue_date\"])\n",
    "df2_avg = df_reduc.groupby(['ticker', 'date', 'sector']).mean().reset_index()\n",
    "df2_max = df_reduc.groupby(['ticker', 'date', 'sector']).max().reset_index()\n"
   ]
  },
  {
   "cell_type": "code",
   "execution_count": 8,
   "metadata": {},
   "outputs": [
    {
     "data": {
      "text/plain": [
       "Index(['ticker', 'numpat_total', 'sector', 'lda_avg_similarity_5',\n",
       "       'lda_avg_similarity_10', 'lda_avg_similarity_20', 'nw', 'nb', 'nt',\n",
       "       'nwc', 'nov', 'date'],\n",
       "      dtype='object')"
      ]
     },
     "execution_count": 8,
     "metadata": {},
     "output_type": "execute_result"
    }
   ],
   "source": [
    "df_reduc.columns"
   ]
  },
  {
   "cell_type": "code",
   "execution_count": 9,
   "metadata": {},
   "outputs": [],
   "source": [
    "# Columns to exclude from renaming\n",
    "exclude_cols = ['ticker', 'date', 'sector', 'numpat_total', 'nw', 'nb', 'nt', 'nwc', 'nov']\n",
    "# Mapping dictionary for renaming max cols\n",
    "rename_dict_max = {col: col + '_max' for col in df2_max.columns if col not in exclude_cols}\n",
    "# Mapping dictionary for renaming avg cols\n",
    "rename_dict_avg = {col: col + '_avg' for col in df2_avg.columns if col not in exclude_cols}\n",
    "\n",
    "# Rename the columns\n",
    "df2_max.rename(columns=rename_dict_max, inplace=True)\n",
    "df2_avg.rename(columns=rename_dict_avg, inplace=True)\n",
    "df2_max = df2_max.drop(columns=['nw', 'nb', 'nt', 'nwc','nov'])"
   ]
  },
  {
   "cell_type": "code",
   "execution_count": 10,
   "metadata": {},
   "outputs": [
    {
     "data": {
      "text/plain": [
       "(8928, 16)"
      ]
     },
     "execution_count": 10,
     "metadata": {},
     "output_type": "execute_result"
    }
   ],
   "source": [
    "# Merging the two datasets\n",
    "merged = pd.merge(stock_prices, df2_avg, on=[\"date\", \"ticker\"], how=\"left\")\n",
    "merged = pd.merge(merged, df2_max, on=[\"date\", \"ticker\", \"sector\", \"numpat_total\"], how=\"left\")\n",
    "merged.shape"
   ]
  },
  {
   "cell_type": "code",
   "execution_count": 11,
   "metadata": {},
   "outputs": [
    {
     "data": {
      "text/html": [
       "<div>\n",
       "<style scoped>\n",
       "    .dataframe tbody tr th:only-of-type {\n",
       "        vertical-align: middle;\n",
       "    }\n",
       "\n",
       "    .dataframe tbody tr th {\n",
       "        vertical-align: top;\n",
       "    }\n",
       "\n",
       "    .dataframe thead th {\n",
       "        text-align: right;\n",
       "    }\n",
       "</style>\n",
       "<table border=\"1\" class=\"dataframe\">\n",
       "  <thead>\n",
       "    <tr style=\"text-align: right;\">\n",
       "      <th></th>\n",
       "      <th>ticker</th>\n",
       "      <th>Adj Close</th>\n",
       "      <th>date</th>\n",
       "      <th>sector</th>\n",
       "      <th>numpat_total</th>\n",
       "      <th>lda_avg_similarity_5_avg</th>\n",
       "      <th>lda_avg_similarity_10_avg</th>\n",
       "      <th>lda_avg_similarity_20_avg</th>\n",
       "      <th>nw</th>\n",
       "      <th>nb</th>\n",
       "      <th>nt</th>\n",
       "      <th>nwc</th>\n",
       "      <th>nov</th>\n",
       "      <th>lda_avg_similarity_5_max</th>\n",
       "      <th>lda_avg_similarity_10_max</th>\n",
       "      <th>lda_avg_similarity_20_max</th>\n",
       "    </tr>\n",
       "  </thead>\n",
       "  <tbody>\n",
       "    <tr>\n",
       "      <th>0</th>\n",
       "      <td>CHD</td>\n",
       "      <td>-0.013531</td>\n",
       "      <td>2010-01-05</td>\n",
       "      <td>NaN</td>\n",
       "      <td>NaN</td>\n",
       "      <td>NaN</td>\n",
       "      <td>NaN</td>\n",
       "      <td>NaN</td>\n",
       "      <td>NaN</td>\n",
       "      <td>NaN</td>\n",
       "      <td>NaN</td>\n",
       "      <td>NaN</td>\n",
       "      <td>NaN</td>\n",
       "      <td>NaN</td>\n",
       "      <td>NaN</td>\n",
       "      <td>NaN</td>\n",
       "    </tr>\n",
       "    <tr>\n",
       "      <th>1</th>\n",
       "      <td>CHD</td>\n",
       "      <td>0.004792</td>\n",
       "      <td>2010-01-06</td>\n",
       "      <td>NaN</td>\n",
       "      <td>NaN</td>\n",
       "      <td>NaN</td>\n",
       "      <td>NaN</td>\n",
       "      <td>NaN</td>\n",
       "      <td>NaN</td>\n",
       "      <td>NaN</td>\n",
       "      <td>NaN</td>\n",
       "      <td>NaN</td>\n",
       "      <td>NaN</td>\n",
       "      <td>NaN</td>\n",
       "      <td>NaN</td>\n",
       "      <td>NaN</td>\n",
       "    </tr>\n",
       "    <tr>\n",
       "      <th>2</th>\n",
       "      <td>CHD</td>\n",
       "      <td>-0.011184</td>\n",
       "      <td>2010-01-07</td>\n",
       "      <td>NaN</td>\n",
       "      <td>NaN</td>\n",
       "      <td>NaN</td>\n",
       "      <td>NaN</td>\n",
       "      <td>NaN</td>\n",
       "      <td>NaN</td>\n",
       "      <td>NaN</td>\n",
       "      <td>NaN</td>\n",
       "      <td>NaN</td>\n",
       "      <td>NaN</td>\n",
       "      <td>NaN</td>\n",
       "      <td>NaN</td>\n",
       "      <td>NaN</td>\n",
       "    </tr>\n",
       "    <tr>\n",
       "      <th>3</th>\n",
       "      <td>CHD</td>\n",
       "      <td>-0.002162</td>\n",
       "      <td>2010-01-08</td>\n",
       "      <td>NaN</td>\n",
       "      <td>NaN</td>\n",
       "      <td>NaN</td>\n",
       "      <td>NaN</td>\n",
       "      <td>NaN</td>\n",
       "      <td>NaN</td>\n",
       "      <td>NaN</td>\n",
       "      <td>NaN</td>\n",
       "      <td>NaN</td>\n",
       "      <td>NaN</td>\n",
       "      <td>NaN</td>\n",
       "      <td>NaN</td>\n",
       "      <td>NaN</td>\n",
       "    </tr>\n",
       "    <tr>\n",
       "      <th>4</th>\n",
       "      <td>CHD</td>\n",
       "      <td>-0.004334</td>\n",
       "      <td>2010-01-11</td>\n",
       "      <td>NaN</td>\n",
       "      <td>NaN</td>\n",
       "      <td>NaN</td>\n",
       "      <td>NaN</td>\n",
       "      <td>NaN</td>\n",
       "      <td>NaN</td>\n",
       "      <td>NaN</td>\n",
       "      <td>NaN</td>\n",
       "      <td>NaN</td>\n",
       "      <td>NaN</td>\n",
       "      <td>NaN</td>\n",
       "      <td>NaN</td>\n",
       "      <td>NaN</td>\n",
       "    </tr>\n",
       "  </tbody>\n",
       "</table>\n",
       "</div>"
      ],
      "text/plain": [
       "  ticker  Adj Close       date sector  numpat_total  lda_avg_similarity_5_avg   \n",
       "0    CHD  -0.013531 2010-01-05    NaN           NaN                       NaN  \\\n",
       "1    CHD   0.004792 2010-01-06    NaN           NaN                       NaN   \n",
       "2    CHD  -0.011184 2010-01-07    NaN           NaN                       NaN   \n",
       "3    CHD  -0.002162 2010-01-08    NaN           NaN                       NaN   \n",
       "4    CHD  -0.004334 2010-01-11    NaN           NaN                       NaN   \n",
       "\n",
       "   lda_avg_similarity_10_avg  lda_avg_similarity_20_avg  nw  nb  nt  nwc  nov   \n",
       "0                        NaN                        NaN NaN NaN NaN  NaN  NaN  \\\n",
       "1                        NaN                        NaN NaN NaN NaN  NaN  NaN   \n",
       "2                        NaN                        NaN NaN NaN NaN  NaN  NaN   \n",
       "3                        NaN                        NaN NaN NaN NaN  NaN  NaN   \n",
       "4                        NaN                        NaN NaN NaN NaN  NaN  NaN   \n",
       "\n",
       "   lda_avg_similarity_5_max  lda_avg_similarity_10_max   \n",
       "0                       NaN                        NaN  \\\n",
       "1                       NaN                        NaN   \n",
       "2                       NaN                        NaN   \n",
       "3                       NaN                        NaN   \n",
       "4                       NaN                        NaN   \n",
       "\n",
       "   lda_avg_similarity_20_max  \n",
       "0                        NaN  \n",
       "1                        NaN  \n",
       "2                        NaN  \n",
       "3                        NaN  \n",
       "4                        NaN  "
      ]
     },
     "execution_count": 11,
     "metadata": {},
     "output_type": "execute_result"
    }
   ],
   "source": [
    "merged.head()"
   ]
  },
  {
   "attachments": {},
   "cell_type": "markdown",
   "metadata": {},
   "source": [
    "We end up with a dataset with a lot of NA values, since we have data for 8928 days/tickers, but new patents were only released in 256 cases."
   ]
  },
  {
   "cell_type": "code",
   "execution_count": 12,
   "metadata": {},
   "outputs": [],
   "source": [
    "merged.to_csv(\"../data/stockprices_novelty_merged_sector_lda.csv\")"
   ]
  },
  {
   "attachments": {},
   "cell_type": "markdown",
   "metadata": {},
   "source": [
    "## Preprocessing and modelling"
   ]
  },
  {
   "cell_type": "code",
   "execution_count": 12,
   "metadata": {},
   "outputs": [],
   "source": [
    "import pandas as pd\n",
    "from sklearn.model_selection import train_test_split\n",
    "from sklearn.preprocessing import StandardScaler\n",
    "import numpy as np\n",
    "from sklearn.metrics import mean_squared_error"
   ]
  },
  {
   "attachments": {},
   "cell_type": "markdown",
   "metadata": {},
   "source": [
    "We only take at this point a few preprocessing steps: dropping the variable for sector (as we are only working with one), getting the total number of patents for each company, filling NAs with 0 for the novelty measures (0 signalling no innovation), and transforming the column 'date' into date format.\n",
    "\n",
    "It is worth noting that in previous version of this exercise, we included other features (such as lags and rolling means of the novelty measures), but they did not add value to the predictions, so here we keep the simpler version.\n",
    "\n",
    "We set the start of the test set in 2017."
   ]
  },
  {
   "cell_type": "code",
   "execution_count": 13,
   "metadata": {},
   "outputs": [],
   "source": [
    "df = pd.read_csv(\"../data/stockprices_novelty_merged_sector_lda.csv\").drop(columns=[\"Unnamed: 0\"])\n",
    "\n",
    "# Sector does not give us extra information\n",
    "\n",
    "df = df.drop(columns=[\"sector\"])\n",
    "\n",
    "# Calculate the maximum value within each group\n",
    "numpatents = df.groupby('ticker')['numpat_total'].transform('max')\n",
    "\n",
    "# Assign the maximum values to a new column 'max_value'\n",
    "df['numpat_total'] = numpatents\n",
    "\n",
    "test_time_start = '2017'\n",
    "\n",
    "df = df.fillna(0) # Filling NAs with 0 (signaling \"no innovation\")\n",
    "\n",
    "df[\"date\"] = pd.to_datetime(df[\"date\"])\n",
    "\n",
    "df.sort_values(['ticker', 'date'], inplace=True)\n"
   ]
  },
  {
   "attachments": {},
   "cell_type": "markdown",
   "metadata": {},
   "source": [
    "### Benchmark\n",
    "\n",
    "+ Naive model\n",
    "\n",
    "We start by building a naive prediction model that forecasts the future values of the target variable using the last known value for each observation. This approach assumes that the future values of the target variable will be similar to the previous observed values, making it a simple baseline model for comparison with more sophisticated prediction techniques."
   ]
  },
  {
   "cell_type": "code",
   "execution_count": 14,
   "metadata": {},
   "outputs": [
    {
     "name": "stdout",
     "output_type": "stream",
     "text": [
      "Mean Squared Error: 0.01842054595810413\n"
     ]
    }
   ],
   "source": [
    "test_time_start = '2017-01-01'\n",
    "train = df.loc[df.date < test_time_start]\n",
    "test = df.loc[df.date >= test_time_start]\n",
    "\n",
    "companies = df['ticker'].unique()\n",
    "\n",
    "def apply_naive_prediction(train, test, target, companies):\n",
    "    y_pred = []  # Initialize y_pred as an empty list\n",
    "    for c in companies:\n",
    "        train_c = train[train[\"ticker\"]==c]\n",
    "        test_c = test[test[\"ticker\"]==c]\n",
    "\n",
    "        y_pred_1 = train_c[target].iloc[-1]\n",
    "        y_pred_2 = test_c[target].shift(1)  # Shift the values by 1 timestep\n",
    "        y_pred_c = y_pred_2.fillna(y_pred_1)\n",
    "        y_pred.append(y_pred_c)  # Append the predicted values to y_pred list\n",
    "\n",
    "    return pd.concat(y_pred)  # Concatenate the predicted values into a single series or dataframe\n",
    "\n",
    "\n",
    "y_pred = apply_naive_prediction(train, test, \"Adj Close\", companies)\n",
    "\n",
    "mse_naive = mean_squared_error(test[\"Adj Close\"], y_pred, squared=False)\n",
    "print(\"Mean Squared Error:\", mse_naive)"
   ]
  },
  {
   "attachments": {},
   "cell_type": "markdown",
   "metadata": {},
   "source": [
    "### Model 1\n",
    "\n",
    "Our first model for generating prediction is a machine learning approach, particularly random forest model. We consider:\n",
    "\n",
    "+ Fixed effects by company (ticker dummies).\n",
    "+ Include past information for stock market variation (rolling means for 3, 6, 15, 30, 60, 120 days)\n",
    "+ Model: RF + hyperparameter tunning\n",
    "+ 2 versions: with and without novelty data"
   ]
  },
  {
   "cell_type": "code",
   "execution_count": 15,
   "metadata": {},
   "outputs": [],
   "source": [
    "# Shifting target by 1 day\n",
    "\n",
    "# Function for defining Y variable\n",
    "\n",
    "def make_target(df, t):\n",
    "    '''t is the number of periods to shift forward'''\n",
    "    df[\"date\"] = pd.to_datetime(df[\"date\"])\n",
    "    df = df.sort_values(by=['ticker', 'date'])\n",
    "\n",
    "    # loop through each period and generate the shift variables\n",
    "    for i in range(1, t+1):\n",
    "        col_name = f'Adj Close{i}'\n",
    "        df[col_name] = df.groupby(['ticker'])['Adj Close'].shift(-i)\n",
    "\n",
    "    # take the maximum for t periods forward and create the new variable\n",
    "    df['target_f{}'.format(t)] = df[[f'Adj Close{i}' for i in range(1, t+1)]].max(axis=1, skipna=False)\n",
    "\n",
    "    # drop the shift variables\n",
    "    df = df.drop(columns=[f'Adj Close{i}' for i in range(1, t+1)])\n",
    "\n",
    "    return(df)"
   ]
  },
  {
   "cell_type": "code",
   "execution_count": 16,
   "metadata": {},
   "outputs": [
    {
     "data": {
      "text/html": [
       "<div>\n",
       "<style scoped>\n",
       "    .dataframe tbody tr th:only-of-type {\n",
       "        vertical-align: middle;\n",
       "    }\n",
       "\n",
       "    .dataframe tbody tr th {\n",
       "        vertical-align: top;\n",
       "    }\n",
       "\n",
       "    .dataframe thead th {\n",
       "        text-align: right;\n",
       "    }\n",
       "</style>\n",
       "<table border=\"1\" class=\"dataframe\">\n",
       "  <thead>\n",
       "    <tr style=\"text-align: right;\">\n",
       "      <th></th>\n",
       "      <th>ticker</th>\n",
       "      <th>Adj Close</th>\n",
       "      <th>date</th>\n",
       "      <th>numpat_total</th>\n",
       "      <th>lda_avg_similarity_5_avg</th>\n",
       "      <th>lda_avg_similarity_10_avg</th>\n",
       "      <th>lda_avg_similarity_20_avg</th>\n",
       "      <th>nw</th>\n",
       "      <th>nb</th>\n",
       "      <th>nt</th>\n",
       "      <th>nwc</th>\n",
       "      <th>nov</th>\n",
       "      <th>lda_avg_similarity_5_max</th>\n",
       "      <th>lda_avg_similarity_10_max</th>\n",
       "      <th>lda_avg_similarity_20_max</th>\n",
       "      <th>target_f1</th>\n",
       "    </tr>\n",
       "  </thead>\n",
       "  <tbody>\n",
       "    <tr>\n",
       "      <th>8923</th>\n",
       "      <td>HSY</td>\n",
       "      <td>0.003343</td>\n",
       "      <td>2018-11-07</td>\n",
       "      <td>27.0</td>\n",
       "      <td>0.000000</td>\n",
       "      <td>0.000000</td>\n",
       "      <td>0.000000</td>\n",
       "      <td>0.0</td>\n",
       "      <td>0.0</td>\n",
       "      <td>0.0</td>\n",
       "      <td>0.0</td>\n",
       "      <td>0.0</td>\n",
       "      <td>0.000000</td>\n",
       "      <td>0.000000</td>\n",
       "      <td>0.000000</td>\n",
       "      <td>-0.009070</td>\n",
       "    </tr>\n",
       "    <tr>\n",
       "      <th>8924</th>\n",
       "      <td>HSY</td>\n",
       "      <td>-0.009070</td>\n",
       "      <td>2018-11-08</td>\n",
       "      <td>27.0</td>\n",
       "      <td>0.000000</td>\n",
       "      <td>0.000000</td>\n",
       "      <td>0.000000</td>\n",
       "      <td>0.0</td>\n",
       "      <td>0.0</td>\n",
       "      <td>0.0</td>\n",
       "      <td>0.0</td>\n",
       "      <td>0.0</td>\n",
       "      <td>0.000000</td>\n",
       "      <td>0.000000</td>\n",
       "      <td>0.000000</td>\n",
       "      <td>0.014103</td>\n",
       "    </tr>\n",
       "    <tr>\n",
       "      <th>8925</th>\n",
       "      <td>HSY</td>\n",
       "      <td>0.014103</td>\n",
       "      <td>2018-11-09</td>\n",
       "      <td>27.0</td>\n",
       "      <td>0.000000</td>\n",
       "      <td>0.000000</td>\n",
       "      <td>0.000000</td>\n",
       "      <td>0.0</td>\n",
       "      <td>0.0</td>\n",
       "      <td>0.0</td>\n",
       "      <td>0.0</td>\n",
       "      <td>0.0</td>\n",
       "      <td>0.000000</td>\n",
       "      <td>0.000000</td>\n",
       "      <td>0.000000</td>\n",
       "      <td>0.000829</td>\n",
       "    </tr>\n",
       "    <tr>\n",
       "      <th>8926</th>\n",
       "      <td>HSY</td>\n",
       "      <td>0.000829</td>\n",
       "      <td>2018-11-12</td>\n",
       "      <td>27.0</td>\n",
       "      <td>0.000000</td>\n",
       "      <td>0.000000</td>\n",
       "      <td>0.000000</td>\n",
       "      <td>0.0</td>\n",
       "      <td>0.0</td>\n",
       "      <td>0.0</td>\n",
       "      <td>0.0</td>\n",
       "      <td>0.0</td>\n",
       "      <td>0.000000</td>\n",
       "      <td>0.000000</td>\n",
       "      <td>0.000000</td>\n",
       "      <td>0.004325</td>\n",
       "    </tr>\n",
       "    <tr>\n",
       "      <th>8927</th>\n",
       "      <td>HSY</td>\n",
       "      <td>0.004325</td>\n",
       "      <td>2018-11-13</td>\n",
       "      <td>27.0</td>\n",
       "      <td>0.553247</td>\n",
       "      <td>0.565704</td>\n",
       "      <td>0.488136</td>\n",
       "      <td>0.0</td>\n",
       "      <td>0.0</td>\n",
       "      <td>0.0</td>\n",
       "      <td>0.0</td>\n",
       "      <td>0.0</td>\n",
       "      <td>0.553247</td>\n",
       "      <td>0.565704</td>\n",
       "      <td>0.488136</td>\n",
       "      <td>NaN</td>\n",
       "    </tr>\n",
       "  </tbody>\n",
       "</table>\n",
       "</div>"
      ],
      "text/plain": [
       "     ticker  Adj Close       date  numpat_total  lda_avg_similarity_5_avg   \n",
       "8923    HSY   0.003343 2018-11-07          27.0                  0.000000  \\\n",
       "8924    HSY  -0.009070 2018-11-08          27.0                  0.000000   \n",
       "8925    HSY   0.014103 2018-11-09          27.0                  0.000000   \n",
       "8926    HSY   0.000829 2018-11-12          27.0                  0.000000   \n",
       "8927    HSY   0.004325 2018-11-13          27.0                  0.553247   \n",
       "\n",
       "      lda_avg_similarity_10_avg  lda_avg_similarity_20_avg   nw   nb   nt   \n",
       "8923                   0.000000                   0.000000  0.0  0.0  0.0  \\\n",
       "8924                   0.000000                   0.000000  0.0  0.0  0.0   \n",
       "8925                   0.000000                   0.000000  0.0  0.0  0.0   \n",
       "8926                   0.000000                   0.000000  0.0  0.0  0.0   \n",
       "8927                   0.565704                   0.488136  0.0  0.0  0.0   \n",
       "\n",
       "      nwc  nov  lda_avg_similarity_5_max  lda_avg_similarity_10_max   \n",
       "8923  0.0  0.0                  0.000000                   0.000000  \\\n",
       "8924  0.0  0.0                  0.000000                   0.000000   \n",
       "8925  0.0  0.0                  0.000000                   0.000000   \n",
       "8926  0.0  0.0                  0.000000                   0.000000   \n",
       "8927  0.0  0.0                  0.553247                   0.565704   \n",
       "\n",
       "      lda_avg_similarity_20_max  target_f1  \n",
       "8923                   0.000000  -0.009070  \n",
       "8924                   0.000000   0.014103  \n",
       "8925                   0.000000   0.000829  \n",
       "8926                   0.000000   0.004325  \n",
       "8927                   0.488136        NaN  "
      ]
     },
     "execution_count": 16,
     "metadata": {},
     "output_type": "execute_result"
    }
   ],
   "source": [
    "df_target = make_target(df, 1)\n",
    "df_target.tail()"
   ]
  },
  {
   "cell_type": "code",
   "execution_count": 17,
   "metadata": {},
   "outputs": [],
   "source": [
    "# Here we generate variables for the past 3 to 120 days with a rolling mean of Adj Close\n",
    "df_target[\"date\"] = pd.to_datetime(df_target[\"date\"])\n",
    "panel_data= df_target.copy()\n",
    "panel_data = panel_data.sort_values(by=['ticker', 'date'])\n",
    "lcols = (panel_data.groupby(['ticker'])['Adj Close'] \n",
    "         .transform(lambda x: x.rolling(w, min_periods=1).mean()) # rolling mean\n",
    "         .rename('past' + str(w-1)) \n",
    "         for w in [4, 7, 16, 31, 61, 121])\n",
    "panel_data = panel_data.join(pd.DataFrame(lcols).transpose())"
   ]
  },
  {
   "cell_type": "code",
   "execution_count": 18,
   "metadata": {},
   "outputs": [],
   "source": [
    "# OHE for ticker\n",
    "\n",
    "dummies = pd.get_dummies(panel_data['ticker'], dtype=int)\n",
    "merged = pd.concat([panel_data, dummies], axis=1)\n",
    "\n",
    "merged = merged.drop(columns=[\"ticker\", \"Adj Close\"])"
   ]
  },
  {
   "attachments": {},
   "cell_type": "markdown",
   "metadata": {},
   "source": [
    "+ Model including novelty measures"
   ]
  },
  {
   "cell_type": "code",
   "execution_count": 19,
   "metadata": {},
   "outputs": [],
   "source": [
    "# Split the data into training and test \n",
    "train = merged.loc[merged.date < test_time_start]\n",
    "test = merged.loc[merged.date >= test_time_start]\n",
    "test = test.dropna()\n",
    "\n",
    "X_train = train.drop('target_f1', axis=1).drop(columns=[\"date\"])  # Features\n",
    "y_train = train['target_f1']  # Target variable\n",
    "X_test = test.drop('target_f1', axis=1).drop(columns=[\"date\"])  # Features\n",
    "y_test = test['target_f1']  # Target variable\n",
    "\n",
    "# Create a StandardScaler object\n",
    "scaler = StandardScaler()\n",
    "\n",
    "# Fit the scaler on the training features\n",
    "scaler.fit(X_train)\n",
    "\n",
    "# Apply the scaler to both the training and test features\n",
    "X_train_scaled = scaler.transform(X_train)\n",
    "X_test_scaled = scaler.transform(X_test)"
   ]
  },
  {
   "cell_type": "code",
   "execution_count": 97,
   "metadata": {},
   "outputs": [
    {
     "name": "stdout",
     "output_type": "stream",
     "text": [
      "Mean Squared Error: 0.0001708550032204425\n"
     ]
    }
   ],
   "source": [
    "from sklearn.model_selection import GridSearchCV\n",
    "from sklearn.ensemble import RandomForestRegressor\n",
    "\n",
    "#Model with novelty measures\n",
    "\n",
    "param_grid = {\n",
    "    'n_estimators': [50, 100, 150, 200, 300],\n",
    "    'max_depth': [None, 5, 7, 10, 20],\n",
    "    'min_samples_split': [2, 5, 10, 15, 20]\n",
    "}\n",
    "\n",
    "rf_model = RandomForestRegressor(random_state=42)\n",
    "\n",
    "grid_search = GridSearchCV(estimator=rf_model, param_grid=param_grid, cv=5, scoring='neg_mean_squared_error', n_jobs=-1)\n",
    "grid_search.fit(X_train_scaled, y_train)\n",
    "\n",
    "best_model = grid_search.best_estimator_\n",
    "\n",
    "y_pred = best_model.predict(X_test_scaled)\n",
    "mse = mean_squared_error(y_test, y_pred)\n",
    "print(\"Mean Squared Error:\", mse)"
   ]
  },
  {
   "cell_type": "code",
   "execution_count": 99,
   "metadata": {},
   "outputs": [],
   "source": [
    "import seaborn as sns\n",
    "import matplotlib.pyplot as plt\n",
    "\n",
    "def feature_imp(coef, names):\n",
    "    imp = coef\n",
    "    indexes = np.argsort(imp)[-11:]\n",
    "    indexes = list(indexes)\n",
    "    \n",
    "    plt.barh(range(len(indexes)), imp[indexes], align='center')\n",
    "    plt.yticks(range(len(indexes)), [names[i] for i in indexes])\n",
    "    plt.show()\n",
    "    \n",
    "    return indexes"
   ]
  },
  {
   "cell_type": "code",
   "execution_count": 100,
   "metadata": {},
   "outputs": [
    {
     "data": {
      "image/png": "[encoded data removed]",
      "text/plain": [
       "<Figure size 640x480 with 1 Axes>"
      ]
     },
     "metadata": {},
     "output_type": "display_data"
    },
    {
     "data": {
      "text/plain": [
       "[18, 8, 7, 0, 6, 15, 17, 16, 14, 13, 12]"
      ]
     },
     "execution_count": 100,
     "metadata": {},
     "output_type": "execute_result"
    }
   ],
   "source": [
    "feature_names = X_train.columns\n",
    "\n",
    "feature_imp(abs(best_model.feature_importances_), feature_names)"
   ]
  },
  {
   "attachments": {},
   "cell_type": "markdown",
   "metadata": {},
   "source": [
    "From this plot we can interpret that the features with the highest importance are the variables related to the historic stock market values: past 3, past 6, past 15, past 60, past 120 and past 30. These are the variables that are more significant to the model's prediction power. The novelty measures do not seem to be the most important features."
   ]
  },
  {
   "attachments": {},
   "cell_type": "markdown",
   "metadata": {},
   "source": [
    "+ Model excluding novelty measures"
   ]
  },
  {
   "cell_type": "code",
   "execution_count": 21,
   "metadata": {},
   "outputs": [
    {
     "data": {
      "text/plain": [
       "Index(['numpat_total', 'lda_avg_similarity_5_avg', 'lda_avg_similarity_10_avg',\n",
       "       'lda_avg_similarity_20_avg', 'nw', 'nb', 'nt', 'nwc', 'nov',\n",
       "       'lda_avg_similarity_5_max', 'lda_avg_similarity_10_max',\n",
       "       'lda_avg_similarity_20_max', 'past3', 'past6', 'past15', 'past30',\n",
       "       'past60', 'past120', 'CHD', 'CL', 'CPB', 'HSY'],\n",
       "      dtype='object')"
      ]
     },
     "execution_count": 21,
     "metadata": {},
     "output_type": "execute_result"
    }
   ],
   "source": [
    "X_train.columns"
   ]
  },
  {
   "cell_type": "code",
   "execution_count": 22,
   "metadata": {},
   "outputs": [],
   "source": [
    "#Exclude novelty measures\n",
    "novel_vars = ['lda_avg_similarity_5_avg', 'lda_avg_similarity_10_avg',\n",
    "       'lda_avg_similarity_20_avg', 'nw', 'nb', 'nt', 'nwc', 'nov',\n",
    "       'lda_avg_similarity_5_max', 'lda_avg_similarity_10_max',\n",
    "       'lda_avg_similarity_20_max']\n",
    "\n",
    "X_train_no_novel = X_train.drop(columns=novel_vars)\n",
    "X_test_no_novel = X_test.drop(columns=novel_vars)\n",
    "\n",
    "# Create a StandardScaler object\n",
    "scaler = StandardScaler()\n",
    "\n",
    "# Fit the scaler on the training features\n",
    "scaler.fit(X_train_no_novel)\n",
    "\n",
    "# Apply the scaler to both the training and test features\n",
    "X_train_no_novel_scaled = scaler.transform(X_train_no_novel)\n",
    "X_test_no_novel_scaled = scaler.transform(X_test_no_novel)"
   ]
  },
  {
   "cell_type": "code",
   "execution_count": 98,
   "metadata": {},
   "outputs": [
    {
     "name": "stdout",
     "output_type": "stream",
     "text": [
      "Mean Squared Error: 0.0001709835569661605\n"
     ]
    }
   ],
   "source": [
    "from sklearn.model_selection import GridSearchCV\n",
    "from sklearn.ensemble import RandomForestRegressor\n",
    "\n",
    "#Model without novelty measures\n",
    "\n",
    "param_grid = {\n",
    "    'n_estimators': [50, 100, 150, 200, 300],\n",
    "    'max_depth': [None, 5, 7, 10, 20],\n",
    "    'min_samples_split': [2, 5, 10, 15, 20]\n",
    "}\n",
    "\n",
    "rf_model = RandomForestRegressor(random_state=42)\n",
    "\n",
    "grid_search_no_novel = GridSearchCV(estimator=rf_model, param_grid=param_grid, cv=5, scoring='neg_mean_squared_error', n_jobs=-1)\n",
    "grid_search_no_novel.fit(X_train_no_novel_scaled, y_train)\n",
    "\n",
    "best_model_no_novel = grid_search_no_novel.best_estimator_\n",
    "\n",
    "y_pred_no_novel = best_model_no_novel.predict(X_test_no_novel_scaled)\n",
    "mse_no_novel = mean_squared_error(y_test, y_pred_no_novel)\n",
    "print(\"Mean Squared Error:\", mse_no_novel)"
   ]
  },
  {
   "cell_type": "code",
   "execution_count": 101,
   "metadata": {},
   "outputs": [
    {
     "data": {
      "image/png": "[encoded data removed]",
      "text/plain": [
       "<Figure size 640x480 with 1 Axes>"
      ]
     },
     "metadata": {},
     "output_type": "display_data"
    },
    {
     "data": {
      "text/plain": [
       "[9, 10, 8, 7, 0, 4, 6, 5, 3, 2, 1]"
      ]
     },
     "execution_count": 101,
     "metadata": {},
     "output_type": "execute_result"
    }
   ],
   "source": [
    "feature_names = X_train_no_novel.columns\n",
    "\n",
    "feature_imp(abs(best_model_no_novel.feature_importances_), feature_names)"
   ]
  },
  {
   "attachments": {},
   "cell_type": "markdown",
   "metadata": {},
   "source": [
    "As in the previous model, the features with the highest importance are the variables related to the historic stock market values: past 3, past 6, past 15, past 60, past 120 and past 30.\n",
    "\n",
    "The mean squared error for both random forest models is practically the same, showing that patent novelty measures do not seem to add accuracy to the predictions."
   ]
  },
  {
   "attachments": {},
   "cell_type": "markdown",
   "metadata": {},
   "source": [
    "### Model 2\n",
    "\n",
    "+ ARIMA - pooled approach\n",
    "\n",
    "As a second model we incorporated an ARIMA model, since it is a popular time series forecasting model that incorporates autoregressive, moving average, and differencing components.\n",
    "\n",
    "For the homework, we generated four models, one per ticker. Here, we opt for a pooled approach that gives us insights about forecasting at the sector level.\n",
    "\n",
    "Similarly as before, we generate two models: including and excluding novelty measures."
   ]
  },
  {
   "cell_type": "code",
   "execution_count": 20,
   "metadata": {},
   "outputs": [],
   "source": [
    "# !pip install statsmodels\n",
    "from statsmodels.tsa.arima.model import ARIMA"
   ]
  },
  {
   "cell_type": "code",
   "execution_count": 18,
   "metadata": {},
   "outputs": [
    {
     "data": {
      "text/html": [
       "<div>\n",
       "<style scoped>\n",
       "    .dataframe tbody tr th:only-of-type {\n",
       "        vertical-align: middle;\n",
       "    }\n",
       "\n",
       "    .dataframe tbody tr th {\n",
       "        vertical-align: top;\n",
       "    }\n",
       "\n",
       "    .dataframe thead th {\n",
       "        text-align: right;\n",
       "    }\n",
       "</style>\n",
       "<table border=\"1\" class=\"dataframe\">\n",
       "  <thead>\n",
       "    <tr style=\"text-align: right;\">\n",
       "      <th></th>\n",
       "      <th>Adj Close</th>\n",
       "      <th>numpat_total</th>\n",
       "      <th>lda_avg_similarity_5_avg</th>\n",
       "      <th>lda_avg_similarity_10_avg</th>\n",
       "      <th>lda_avg_similarity_20_avg</th>\n",
       "      <th>nw</th>\n",
       "      <th>nb</th>\n",
       "      <th>nt</th>\n",
       "      <th>nwc</th>\n",
       "      <th>nov</th>\n",
       "      <th>lda_avg_similarity_5_max</th>\n",
       "      <th>lda_avg_similarity_10_max</th>\n",
       "      <th>lda_avg_similarity_20_max</th>\n",
       "      <th>company_CHD</th>\n",
       "      <th>company_CL</th>\n",
       "      <th>company_CPB</th>\n",
       "      <th>company_HSY</th>\n",
       "    </tr>\n",
       "    <tr>\n",
       "      <th>date</th>\n",
       "      <th></th>\n",
       "      <th></th>\n",
       "      <th></th>\n",
       "      <th></th>\n",
       "      <th></th>\n",
       "      <th></th>\n",
       "      <th></th>\n",
       "      <th></th>\n",
       "      <th></th>\n",
       "      <th></th>\n",
       "      <th></th>\n",
       "      <th></th>\n",
       "      <th></th>\n",
       "      <th></th>\n",
       "      <th></th>\n",
       "      <th></th>\n",
       "      <th></th>\n",
       "    </tr>\n",
       "  </thead>\n",
       "  <tbody>\n",
       "    <tr>\n",
       "      <th>2010-01-05</th>\n",
       "      <td>-0.013531</td>\n",
       "      <td>395.0</td>\n",
       "      <td>0.0</td>\n",
       "      <td>0.0</td>\n",
       "      <td>0.0</td>\n",
       "      <td>0.0</td>\n",
       "      <td>0.0</td>\n",
       "      <td>0.0</td>\n",
       "      <td>0.0</td>\n",
       "      <td>0.0</td>\n",
       "      <td>0.0</td>\n",
       "      <td>0.0</td>\n",
       "      <td>0.0</td>\n",
       "      <td>1</td>\n",
       "      <td>0</td>\n",
       "      <td>0</td>\n",
       "      <td>0</td>\n",
       "    </tr>\n",
       "    <tr>\n",
       "      <th>2010-01-06</th>\n",
       "      <td>0.004792</td>\n",
       "      <td>395.0</td>\n",
       "      <td>0.0</td>\n",
       "      <td>0.0</td>\n",
       "      <td>0.0</td>\n",
       "      <td>0.0</td>\n",
       "      <td>0.0</td>\n",
       "      <td>0.0</td>\n",
       "      <td>0.0</td>\n",
       "      <td>0.0</td>\n",
       "      <td>0.0</td>\n",
       "      <td>0.0</td>\n",
       "      <td>0.0</td>\n",
       "      <td>1</td>\n",
       "      <td>0</td>\n",
       "      <td>0</td>\n",
       "      <td>0</td>\n",
       "    </tr>\n",
       "    <tr>\n",
       "      <th>2010-01-07</th>\n",
       "      <td>-0.011184</td>\n",
       "      <td>395.0</td>\n",
       "      <td>0.0</td>\n",
       "      <td>0.0</td>\n",
       "      <td>0.0</td>\n",
       "      <td>0.0</td>\n",
       "      <td>0.0</td>\n",
       "      <td>0.0</td>\n",
       "      <td>0.0</td>\n",
       "      <td>0.0</td>\n",
       "      <td>0.0</td>\n",
       "      <td>0.0</td>\n",
       "      <td>0.0</td>\n",
       "      <td>1</td>\n",
       "      <td>0</td>\n",
       "      <td>0</td>\n",
       "      <td>0</td>\n",
       "    </tr>\n",
       "    <tr>\n",
       "      <th>2010-01-08</th>\n",
       "      <td>-0.002162</td>\n",
       "      <td>395.0</td>\n",
       "      <td>0.0</td>\n",
       "      <td>0.0</td>\n",
       "      <td>0.0</td>\n",
       "      <td>0.0</td>\n",
       "      <td>0.0</td>\n",
       "      <td>0.0</td>\n",
       "      <td>0.0</td>\n",
       "      <td>0.0</td>\n",
       "      <td>0.0</td>\n",
       "      <td>0.0</td>\n",
       "      <td>0.0</td>\n",
       "      <td>1</td>\n",
       "      <td>0</td>\n",
       "      <td>0</td>\n",
       "      <td>0</td>\n",
       "    </tr>\n",
       "    <tr>\n",
       "      <th>2010-01-11</th>\n",
       "      <td>-0.004334</td>\n",
       "      <td>395.0</td>\n",
       "      <td>0.0</td>\n",
       "      <td>0.0</td>\n",
       "      <td>0.0</td>\n",
       "      <td>0.0</td>\n",
       "      <td>0.0</td>\n",
       "      <td>0.0</td>\n",
       "      <td>0.0</td>\n",
       "      <td>0.0</td>\n",
       "      <td>0.0</td>\n",
       "      <td>0.0</td>\n",
       "      <td>0.0</td>\n",
       "      <td>1</td>\n",
       "      <td>0</td>\n",
       "      <td>0</td>\n",
       "      <td>0</td>\n",
       "    </tr>\n",
       "  </tbody>\n",
       "</table>\n",
       "</div>"
      ],
      "text/plain": [
       "            Adj Close  numpat_total  lda_avg_similarity_5_avg  \\\n",
       "date                                                            \n",
       "2010-01-05  -0.013531         395.0                       0.0   \n",
       "2010-01-06   0.004792         395.0                       0.0   \n",
       "2010-01-07  -0.011184         395.0                       0.0   \n",
       "2010-01-08  -0.002162         395.0                       0.0   \n",
       "2010-01-11  -0.004334         395.0                       0.0   \n",
       "\n",
       "            lda_avg_similarity_10_avg  lda_avg_similarity_20_avg   nw   nb  \\\n",
       "date                                                                         \n",
       "2010-01-05                        0.0                        0.0  0.0  0.0   \n",
       "2010-01-06                        0.0                        0.0  0.0  0.0   \n",
       "2010-01-07                        0.0                        0.0  0.0  0.0   \n",
       "2010-01-08                        0.0                        0.0  0.0  0.0   \n",
       "2010-01-11                        0.0                        0.0  0.0  0.0   \n",
       "\n",
       "             nt  nwc  nov  lda_avg_similarity_5_max  \\\n",
       "date                                                  \n",
       "2010-01-05  0.0  0.0  0.0                       0.0   \n",
       "2010-01-06  0.0  0.0  0.0                       0.0   \n",
       "2010-01-07  0.0  0.0  0.0                       0.0   \n",
       "2010-01-08  0.0  0.0  0.0                       0.0   \n",
       "2010-01-11  0.0  0.0  0.0                       0.0   \n",
       "\n",
       "            lda_avg_similarity_10_max  lda_avg_similarity_20_max  company_CHD  \\\n",
       "date                                                                            \n",
       "2010-01-05                        0.0                        0.0            1   \n",
       "2010-01-06                        0.0                        0.0            1   \n",
       "2010-01-07                        0.0                        0.0            1   \n",
       "2010-01-08                        0.0                        0.0            1   \n",
       "2010-01-11                        0.0                        0.0            1   \n",
       "\n",
       "            company_CL  company_CPB  company_HSY  \n",
       "date                                              \n",
       "2010-01-05           0            0            0  \n",
       "2010-01-06           0            0            0  \n",
       "2010-01-07           0            0            0  \n",
       "2010-01-08           0            0            0  \n",
       "2010-01-11           0            0            0  "
      ]
     },
     "execution_count": 18,
     "metadata": {},
     "output_type": "execute_result"
    }
   ],
   "source": [
    "df_timeseries = df.copy()\n",
    "\n",
    "df_timeseries[\"date\"] = pd.to_datetime(df_timeseries[\"date\"])\n",
    "\n",
    "# Set the 'date' column as the index\n",
    "df_timeseries.set_index('date', inplace=True)\n",
    "\n",
    "# Create dummy variables for each company\n",
    "company_dummies = pd.get_dummies(df_timeseries['ticker'], prefix='company', dtype=int)\n",
    "\n",
    "# Concatenate the original data with the company dummies\n",
    "df_timeseries = pd.concat([df_timeseries, company_dummies], axis=1)\n",
    "\n",
    "df_timeseries = df_timeseries.drop(columns=[\"ticker\"])\n",
    "df_timeseries.head()"
   ]
  },
  {
   "attachments": {},
   "cell_type": "markdown",
   "metadata": {},
   "source": [
    "+ Model without exogenous variables (i.e. excluding novelty measures)"
   ]
  },
  {
   "cell_type": "code",
   "execution_count": 23,
   "metadata": {},
   "outputs": [
    {
     "name": "stdout",
     "output_type": "stream",
     "text": [
      "Pooled Model: no covariates\n",
      "                               SARIMAX Results                                \n",
      "==============================================================================\n",
      "Dep. Variable:              Adj Close   No. Observations:                 7044\n",
      "Model:                 ARIMA(1, 1, 1)   Log Likelihood               21888.721\n",
      "Date:                Sat, 24 Jun 2023   AIC                         -43771.441\n",
      "Time:                        19:28:20   BIC                         -43750.862\n",
      "Sample:                             0   HQIC                        -43764.352\n",
      "                               - 7044                                         \n",
      "Covariance Type:                  opg                                         \n",
      "==============================================================================\n",
      "                 coef    std err          z      P>|z|      [0.025      0.975]\n",
      "------------------------------------------------------------------------------\n",
      "ar.L1         -0.0565      0.010     -5.399      0.000      -0.077      -0.036\n",
      "ma.L1         -0.9999      0.027    -36.650      0.000      -1.053      -0.946\n",
      "sigma2         0.0001   3.23e-06     36.132      0.000       0.000       0.000\n",
      "===================================================================================\n",
      "Ljung-Box (L1) (Q):                   0.00   Jarque-Bera (JB):             54301.43\n",
      "Prob(Q):                              0.95   Prob(JB):                         0.00\n",
      "Heteroskedasticity (H):               1.20   Skew:                             0.32\n",
      "Prob(H) (two-sided):                  0.00   Kurtosis:                        16.59\n",
      "===================================================================================\n",
      "\n",
      "Warnings:\n",
      "[1] Covariance matrix calculated using the outer product of gradients (complex-step).\n",
      "Mean Squared Error: 0.01302360043257723\n"
     ]
    }
   ],
   "source": [
    "import warnings\n",
    "warnings.filterwarnings(\"ignore\")\n",
    "\n",
    "# Specify the order of the ARIMA model (p, d, q)\n",
    "p = 1  # AR order\n",
    "d = 1  # Differencing order\n",
    "q = 1  # MA order\n",
    "\n",
    "# Separate the target variable (stock values) and covariates from the combined dataset\n",
    "y = df_timeseries['Adj Close']\n",
    "X = df_timeseries.drop(columns=[\"Adj Close\"])\n",
    "\n",
    "# Split the data into train and test based on date\n",
    "test_start_date = pd.to_datetime('2017-01-01')\n",
    "X_train = X[X.index < test_start_date]\n",
    "X_test = X[X.index >= test_start_date]\n",
    "y_train = y[y.index < test_start_date]\n",
    "y_test = y[y.index >= test_start_date]\n",
    "\n",
    "# Standardize the covariates using a scaler\n",
    "scaler = StandardScaler()\n",
    "X_train_scaled = scaler.fit_transform(X_train)\n",
    "X_test_scaled = scaler.transform(X_test)\n",
    "\n",
    "# Convert the scaled arrays back to a DataFrame with original column names\n",
    "X_train_scaled = pd.DataFrame(X_train_scaled, columns=X_train.columns, index=X_train.index)\n",
    "X_test_scaled = pd.DataFrame(X_test_scaled, columns=X_test.columns, index=X_test.index)\n",
    "\n",
    "# Fit the pooled ARIMA model with exogenous variables\n",
    "model = ARIMA(y_train, order=(p, d, q))\n",
    "model_fit_simple = model.fit()\n",
    "\n",
    "print(\"Pooled Model: no covariates\")\n",
    "print(model_fit_simple.summary())\n",
    "\n",
    "# Make predictions on the test set with exogenous variables\n",
    "y_pred_arima_simple = model_fit_simple.predict(start=len(y_train), end=len(y_train) + len(y_test) - 1)\n",
    "\n",
    "# Calculate the mean squared error (MSE) on the test set\n",
    "mse_arima_simple = mean_squared_error(y_test, y_pred_arima_simple, squared=False)\n",
    "print(f\"Mean Squared Error: {mse_arima_simple}\")\n"
   ]
  },
  {
   "attachments": {},
   "cell_type": "markdown",
   "metadata": {},
   "source": [
    "+ Model with exogenous variables (including novelty measures)"
   ]
  },
  {
   "cell_type": "code",
   "execution_count": 24,
   "metadata": {},
   "outputs": [
    {
     "name": "stdout",
     "output_type": "stream",
     "text": [
      "Pooled Model\n",
      "                               SARIMAX Results                                \n",
      "==============================================================================\n",
      "Dep. Variable:              Adj Close   No. Observations:                 7044\n",
      "Model:                 ARIMA(1, 1, 1)   Log Likelihood               21389.145\n",
      "Date:                Sat, 24 Jun 2023   AIC                         -42740.290\n",
      "Time:                        19:28:44   BIC                         -42609.954\n",
      "Sample:                             0   HQIC                        -42695.392\n",
      "                               - 7044                                         \n",
      "Covariance Type:                  opg                                         \n",
      "=============================================================================================\n",
      "                                coef    std err          z      P>|z|      [0.025      0.975]\n",
      "---------------------------------------------------------------------------------------------\n",
      "numpat_total                  0.0051      0.001      6.779      0.000       0.004       0.007\n",
      "lda_avg_similarity_5_avg      0.0007      0.001      0.510      0.610      -0.002       0.003\n",
      "lda_avg_similarity_10_avg     0.0011      0.003      0.382      0.702      -0.005       0.007\n",
      "lda_avg_similarity_20_avg    -0.0027      0.003     -0.888      0.374      -0.009       0.003\n",
      "nw                           -0.0006      0.001     -1.017      0.309      -0.002       0.001\n",
      "nb                            0.0006      0.001      1.104      0.270      -0.000       0.002\n",
      "nt                         4.258e-05      0.000      0.193      0.847      -0.000       0.000\n",
      "nwc                           0.0001      0.001      0.238      0.812      -0.001       0.001\n",
      "nov                           0.0002      0.001      0.325      0.745      -0.001       0.002\n",
      "lda_avg_similarity_5_max     -0.0003      0.001     -0.178      0.859      -0.003       0.003\n",
      "lda_avg_similarity_10_max    -0.0019      0.003     -0.641      0.521      -0.008       0.004\n",
      "lda_avg_similarity_20_max     0.0027      0.003      0.842      0.400      -0.004       0.009\n",
      "company_CHD                   0.0115      0.003      4.387      0.000       0.006       0.017\n",
      "company_CL                    0.0037      0.001      4.871      0.000       0.002       0.005\n",
      "company_CPB                  -0.0030      0.001     -2.250      0.024      -0.006      -0.000\n",
      "company_HSY                  -0.0124      0.002     -6.317      0.000      -0.016      -0.009\n",
      "ar.L1                        -0.0871      0.011     -8.086      0.000      -0.108      -0.066\n",
      "ma.L1                        -0.7422      0.010    -77.321      0.000      -0.761      -0.723\n",
      "sigma2                        0.0001   9.31e-07    144.347      0.000       0.000       0.000\n",
      "===================================================================================\n",
      "Ljung-Box (L1) (Q):                  56.14   Jarque-Bera (JB):             32980.99\n",
      "Prob(Q):                              0.00   Prob(JB):                         0.00\n",
      "Heteroskedasticity (H):               1.20   Skew:                             0.44\n",
      "Prob(H) (two-sided):                  0.00   Kurtosis:                        13.56\n",
      "===================================================================================\n",
      "\n",
      "Warnings:\n",
      "[1] Covariance matrix calculated using the outer product of gradients (complex-step).\n",
      "[2] Covariance matrix is singular or near-singular, with condition number 3.05e+19. Standard errors may be unstable.\n",
      "Mean Squared Error: 0.04136559242364726\n"
     ]
    }
   ],
   "source": [
    "# Fit the pooled ARIMA model with exogenous variables\n",
    "\n",
    "model = ARIMA(y_train, order=(p, d, q), exog=X_train_scaled)\n",
    "model_fit = model.fit()\n",
    "\n",
    "print(\"Pooled Model\")\n",
    "print(model_fit.summary())\n",
    "\n",
    "# Make predictions on the test set with exogenous variables\n",
    "y_pred_arima = model_fit.predict(start=len(y_train), end=len(y_train) + len(y_test) - 1, exog=X_test_scaled)\n",
    "\n",
    "# Calculate the mean squared error (MSE) on the test set\n",
    "mse_arima = mean_squared_error(y_test, y_pred_arima, squared=False)\n",
    "print(f\"Mean Squared Error: {mse_arima}\")\n"
   ]
  },
  {
   "attachments": {},
   "cell_type": "markdown",
   "metadata": {},
   "source": [
    "Based on the MSE of both ARIMA models, one including exogenous variables and one without, it can be concluded that the ARIMA model without additional features performs better than the one that includes the additional features, such as novelty measures and past data.\n",
    "\n",
    "In addition to this, in the ARIMA model including exogenous variables, the novelty measures are not significant at a 95% confidence level. We find some significant features to be (apart from the historical stock market structure) the total number of patents granted at the company level, and company fixed-effects.\n",
    "\n",
    "Final comments on the comparison of the models with different novelty measures can be found in the file   `3_2_Stock_prices_prediction_within_sector_BoW.ipynb`"
   ]
  }
 ],
 "metadata": {
  "kernelspec": {
   "display_name": "Python 3 (ipykernel)",
   "language": "python",
   "name": "python3"
  },
  "language_info": {
   "codemirror_mode": {
    "name": "ipython",
    "version": 3
   },
   "file_extension": ".py",
   "mimetype": "text/x-python",
   "name": "python",
   "nbconvert_exporter": "python",
   "pygments_lexer": "ipython3",
   "version": "3.11.3"
  }
 },
 "nbformat": 4,
 "nbformat_minor": 2
}
