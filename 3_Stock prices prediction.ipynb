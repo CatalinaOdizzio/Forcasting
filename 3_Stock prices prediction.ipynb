{
 "cells": [
  {
   "attachments": {},
   "cell_type": "markdown",
   "metadata": {},
   "source": [
    "## Stock market prediction based on patent novelty\n"
   ]
  },
  {
   "cell_type": "code",
   "execution_count": 1,
   "metadata": {},
   "outputs": [],
   "source": [
    "import pandas as pd"
   ]
  },
  {
   "cell_type": "code",
   "execution_count": 34,
   "metadata": {},
   "outputs": [
    {
     "name": "stdout",
     "output_type": "stream",
     "text": [
      "(427, 15)\n",
      "(369810, 3)\n"
     ]
    }
   ],
   "source": [
    "df = pd.read_csv(\"data/all_novelty.csv\")\n",
    "stock_prices = pd.read_csv(\"data/stockprices_2000_2020.csv\")\n",
    "print(df.shape)\n",
    "print(stock_prices.shape)"
   ]
  },
  {
   "cell_type": "code",
   "execution_count": 35,
   "metadata": {},
   "outputs": [
    {
     "data": {
      "text/plain": [
       "ticker\n",
       "CL     335\n",
       "CHD     70\n",
       "HSY     18\n",
       "CPB      4\n",
       "Name: count, dtype: int64"
      ]
     },
     "execution_count": 35,
     "metadata": {},
     "output_type": "execute_result"
    }
   ],
   "source": [
    "df.ticker.value_counts()"
   ]
  },
  {
   "cell_type": "code",
   "execution_count": 36,
   "metadata": {},
   "outputs": [
    {
     "data": {
      "text/plain": [
       "(21132, 3)"
      ]
     },
     "execution_count": 36,
     "metadata": {},
     "output_type": "execute_result"
    }
   ],
   "source": [
    "stock_prices = stock_prices[(stock_prices[\"Ticker\"]==\"CL\") | \n",
    "                            (stock_prices[\"Ticker\"]==\"CHD\") |\n",
    "                            (stock_prices[\"Ticker\"]==\"HSY\") |\n",
    "                            (stock_prices[\"Ticker\"]==\"CPB\")]\n",
    "stock_prices.shape"
   ]
  },
  {
   "cell_type": "code",
   "execution_count": 37,
   "metadata": {},
   "outputs": [],
   "source": [
    "# Keeping range of dates for which we have patent data\n",
    "\n",
    "stock_prices[\"date\"] = pd.to_datetime(stock_prices[\"Date\"])\n",
    "df[\"date\"] = pd.to_datetime(df[\"issue_date\"])\n",
    "stock_prices = stock_prices[(stock_prices[\"date\"]>=df.date.min()) &\n",
    "                            (stock_prices[\"date\"]<=df.date.max())]\n",
    "stock_prices = stock_prices.drop(columns=[\"Date\"])\n",
    "\n",
    "stock_prices = stock_prices.rename(columns={'Ticker': 'ticker'})"
   ]
  },
  {
   "cell_type": "code",
   "execution_count": 38,
   "metadata": {},
   "outputs": [
    {
     "data": {
      "text/plain": [
       "(256, 12)"
      ]
     },
     "execution_count": 38,
     "metadata": {},
     "output_type": "execute_result"
    }
   ],
   "source": [
    "# Many patents are published on the same date - we average the novelty measures\n",
    "\n",
    "df_reduc = df.drop(columns=[\"text\", \"patent_id\", \"clean_corpus\", \"issue_date\"])\n",
    "df2_avg = df_reduc.groupby(['ticker', 'date', 'sector']).mean().reset_index()\n",
    "df2_avg.shape"
   ]
  },
  {
   "cell_type": "code",
   "execution_count": 39,
   "metadata": {},
   "outputs": [
    {
     "data": {
      "text/plain": [
       "(8928, 13)"
      ]
     },
     "execution_count": 39,
     "metadata": {},
     "output_type": "execute_result"
    }
   ],
   "source": [
    "# Merging the two datasets\n",
    "merged = pd.merge(stock_prices, df2_avg, on=[\"date\", \"ticker\"], how=\"left\")\n",
    "merged.shape"
   ]
  },
  {
   "attachments": {},
   "cell_type": "markdown",
   "metadata": {},
   "source": [
    "We end up with a dataset with a lot of NA values, since we have data for 8928 days/tickers, but new patents were only released in 256 cases."
   ]
  },
  {
   "cell_type": "code",
   "execution_count": 40,
   "metadata": {},
   "outputs": [],
   "source": [
    "merged.to_csv(\"data/stockprices_novelty_merged.csv\")"
   ]
  }
 ],
 "metadata": {
  "kernelspec": {
   "display_name": "forecast_text",
   "language": "python",
   "name": "python3"
  },
  "language_info": {
   "codemirror_mode": {
    "name": "ipython",
    "version": 3
   },
   "file_extension": ".py",
   "mimetype": "text/x-python",
   "name": "python",
   "nbconvert_exporter": "python",
   "pygments_lexer": "ipython3",
   "version": "3.11.3"
  },
  "orig_nbformat": 4
 },
 "nbformat": 4,
 "nbformat_minor": 2
}
